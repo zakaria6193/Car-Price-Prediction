{
 "cells": [
  {
   "cell_type": "markdown",
   "metadata": {},
   "source": [
    "## Issue"
   ]
  },
  {
   "cell_type": "markdown",
   "metadata": {},
   "source": [
    "Predicting the price of cars based on their characteristics."
   ]
  },
  {
   "cell_type": "markdown",
   "metadata": {},
   "source": [
    "********************* ********************* ********************* ********************* ********************* *****************"
   ]
  },
  {
   "cell_type": "markdown",
   "metadata": {},
   "source": [
    "## Processus"
   ]
  },
  {
   "cell_type": "markdown",
   "metadata": {},
   "source": [
    "![title](proc-dm.png)"
   ]
  },
  {
   "cell_type": "markdown",
   "metadata": {},
   "source": [
    "********************* ********************* ********************* ********************* ********************* *****************"
   ]
  },
  {
   "cell_type": "markdown",
   "metadata": {},
   "source": [
    "## Importing libraries"
   ]
  },
  {
   "cell_type": "code",
   "execution_count": 2,
   "metadata": {},
   "outputs": [],
   "source": [
    "import numpy as np\n",
    "import pandas as pd\n",
    "import matplotlib.pyplot as plt\n",
    "import matplotlib.lines as mlines\n",
    "import seaborn as sns\n",
    "from sklearn.model_selection import train_test_split, learning_curve\n",
    "\n",
    "import requests\n",
    "from bs4 import BeautifulSoup\n",
    "import os\n",
    "\n",
    "import warnings\n",
    "warnings.filterwarnings(\"ignore\")"
   ]
  },
  {
   "cell_type": "markdown",
   "metadata": {},
   "source": [
    "********************* ********************* ********************* ********************* ********************* *****************"
   ]
  },
  {
   "cell_type": "markdown",
   "metadata": {},
   "source": [
    "## Construction of the dataset"
   ]
  },
  {
   "cell_type": "code",
   "execution_count": null,
   "metadata": {},
   "outputs": [],
   "source": [
    "os.chdir('C:\\\\Users\\hp\\Documents\\S3\\DM\\Projet')\n",
    "print(os.getcwd())"
   ]
  },
  {
   "cell_type": "code",
   "execution_count": null,
   "metadata": {},
   "outputs": [],
   "source": [
    "df=pd.DataFrame({})\n",
    "for k in range(10000):\n",
    "    print(k)\n",
    "    url=\"https://www.avito.ma/fr/maroc/voitures-%C3%A0_vendre?o=\"+str(k+1)\n",
    "    response=requests.get(url)\n",
    "    soup=BeautifulSoup(response.text)\n",
    "    li=soup.findAll(\"a\",{\"class\":\"li-card\"})\n",
    "    mo=soup.findAll(\"h2\",{\"class\":\"fs14 d-inline-block text-truncate\"})\n",
    "    lo=soup.findAll(\"div\",{\"class\":\"re-text\"})\n",
    "    \n",
    "    for i in range(len(li)):\n",
    "        response2=requests.get(li[i]['href'])\n",
    "        soupi=BeautifulSoup(response2.text)\n",
    "        pr2=soupi.find(\"p\",{\"class\":\"g6568y-0 GIWEw\"})\n",
    "        if pr2==None:\n",
    "            pr=None\n",
    "        else:\n",
    "            pr=pr2.text.strip(' DH')\n",
    "        \n",
    "        n1=soupi.findAll(\"div\",{\"class\":\"sc-6p5md9-1 gPZzqa\"})\n",
    "        n2=soupi.findAll(\"span\",{\"class\":\"g6568y-0 jypWbQ\"})\n",
    "        Nbcols=[n1[f]['data-test'] for f in range(len(n1)) ]+[n2[f].text for f in range(len(n2)) ]\n",
    "        \n",
    "        r1=soupi.findAll(\"span\",{\"class\":\"g6568y-0 iKWYSN\"})\n",
    "        r2=soupi.findAll(\"span\",{\"class\":\"g6568y-0 dGDJdv\"})\n",
    "        r3=soupi.findAll(\"span\",{\"class\":\"g6568y-0 WhKdN\"})\n",
    "        brs=[r1[f].text for f in range(len(r1))]+[r2[f].text for f in range(len(r2))]\n",
    "        \n",
    "        dic2={}\n",
    "        for j in range(len(Nbcols)):\n",
    "            dic2[Nbcols[j]]=brs[j]\n",
    "        dic2['équipements']=[r3[f].text for f in range(len(r3))]\n",
    "        dic1={'Nom':[mo[i].find('a').text.replace('\\n','')],'Location':lo[i].text.replace('\\n',''),'Price':pr}\n",
    "        dic1.update(dic2)\n",
    "        df=df.append(dic1,ignore_index=True)"
   ]
  },
  {
   "cell_type": "code",
   "execution_count": null,
   "metadata": {},
   "outputs": [],
   "source": [
    "df.to_csv (r'C:\\Users\\hp\\Documents\\S3\\DM\\Projet\\voiture-big-dataset-score.csv', index = False, header=True)"
   ]
  },
  {
   "cell_type": "markdown",
   "metadata": {},
   "source": [
    "********************* ********************* ********************* ********************* ********************* *****************"
   ]
  },
  {
   "cell_type": "markdown",
   "metadata": {},
   "source": [
    "## Importing the Dataset"
   ]
  },
  {
   "cell_type": "code",
   "execution_count": 3,
   "metadata": {},
   "outputs": [],
   "source": [
    "df=pd.read_csv('voiture-big-dataset-score.csv')"
   ]
  },
  {
   "cell_type": "code",
   "execution_count": 4,
   "metadata": {},
   "outputs": [
    {
     "name": "stdout",
     "output_type": "stream",
     "text": [
      "17430\n"
     ]
    },
    {
     "data": {
      "text/html": [
       "<div>\n",
       "<style scoped>\n",
       "    .dataframe tbody tr th:only-of-type {\n",
       "        vertical-align: middle;\n",
       "    }\n",
       "\n",
       "    .dataframe tbody tr th {\n",
       "        vertical-align: top;\n",
       "    }\n",
       "\n",
       "    .dataframe thead th {\n",
       "        text-align: right;\n",
       "    }\n",
       "</style>\n",
       "<table border=\"1\" class=\"dataframe\">\n",
       "  <thead>\n",
       "    <tr style=\"text-align: right;\">\n",
       "      <th></th>\n",
       "      <th>Type</th>\n",
       "      <th>Kilométrage</th>\n",
       "      <th>Année-Modèle</th>\n",
       "      <th>Marque</th>\n",
       "      <th>Modèle</th>\n",
       "      <th>Nombre de portes</th>\n",
       "      <th>Origine</th>\n",
       "      <th>Secteur</th>\n",
       "      <th>Première main</th>\n",
       "      <th>equipement</th>\n",
       "      <th>price</th>\n",
       "      <th>Type de carburant</th>\n",
       "      <th>Puissance fiscale</th>\n",
       "      <th>Boite à vitesse</th>\n",
       "      <th>score</th>\n",
       "    </tr>\n",
       "  </thead>\n",
       "  <tbody>\n",
       "    <tr>\n",
       "      <th>0</th>\n",
       "      <td>Voitures, Vente</td>\n",
       "      <td>60 000 - 64 999</td>\n",
       "      <td>2016</td>\n",
       "      <td>Ford</td>\n",
       "      <td>Fiesta</td>\n",
       "      <td>5.0</td>\n",
       "      <td>WW au Maroc</td>\n",
       "      <td>Hay Mohammadi</td>\n",
       "      <td>NaN</td>\n",
       "      <td>['Airbags', 'Climatisation', 'Radar de recul',...</td>\n",
       "      <td>108,000 DH</td>\n",
       "      <td>Diesel</td>\n",
       "      <td>6 CV</td>\n",
       "      <td>Manuelle</td>\n",
       "      <td>15.0</td>\n",
       "    </tr>\n",
       "    <tr>\n",
       "      <th>1</th>\n",
       "      <td>Voitures, Vente</td>\n",
       "      <td>0 - 4 999</td>\n",
       "      <td>2004</td>\n",
       "      <td>Citroen</td>\n",
       "      <td>Berlingo</td>\n",
       "      <td>5.0</td>\n",
       "      <td>WW au Maroc</td>\n",
       "      <td>Sidi Othmane</td>\n",
       "      <td>Non</td>\n",
       "      <td>['Airbags', 'Vitres électriques', 'CD/MP3/Blue...</td>\n",
       "      <td>45,000 DH</td>\n",
       "      <td>Diesel</td>\n",
       "      <td>7 CV</td>\n",
       "      <td>Manuelle</td>\n",
       "      <td>5.0</td>\n",
       "    </tr>\n",
       "    <tr>\n",
       "      <th>2</th>\n",
       "      <td>Voitures, Vente</td>\n",
       "      <td>250 000 - 299 999</td>\n",
       "      <td>2009</td>\n",
       "      <td>Autres</td>\n",
       "      <td>Autres</td>\n",
       "      <td>5.0</td>\n",
       "      <td>NaN</td>\n",
       "      <td>NaN</td>\n",
       "      <td>Oui</td>\n",
       "      <td>NaN</td>\n",
       "      <td>100,000 DH</td>\n",
       "      <td>Diesel</td>\n",
       "      <td>10 CV</td>\n",
       "      <td>Manuelle</td>\n",
       "      <td>NaN</td>\n",
       "    </tr>\n",
       "  </tbody>\n",
       "</table>\n",
       "</div>"
      ],
      "text/plain": [
       "              Type        Kilométrage Année-Modèle   Marque    Modèle  \\\n",
       "0  Voitures, Vente    60 000 - 64 999         2016     Ford    Fiesta   \n",
       "1  Voitures, Vente          0 - 4 999         2004  Citroen  Berlingo   \n",
       "2  Voitures, Vente  250 000 - 299 999         2009   Autres    Autres   \n",
       "\n",
       "   Nombre de portes      Origine        Secteur Première main  \\\n",
       "0               5.0  WW au Maroc  Hay Mohammadi           NaN   \n",
       "1               5.0  WW au Maroc   Sidi Othmane           Non   \n",
       "2               5.0          NaN            NaN           Oui   \n",
       "\n",
       "                                          equipement       price  \\\n",
       "0  ['Airbags', 'Climatisation', 'Radar de recul',...  108,000 DH   \n",
       "1  ['Airbags', 'Vitres électriques', 'CD/MP3/Blue...   45,000 DH   \n",
       "2                                                NaN  100,000 DH   \n",
       "\n",
       "  Type de carburant Puissance fiscale Boite à vitesse  score  \n",
       "0            Diesel              6 CV        Manuelle   15.0  \n",
       "1            Diesel              7 CV        Manuelle    5.0  \n",
       "2            Diesel             10 CV        Manuelle    NaN  "
      ]
     },
     "execution_count": 4,
     "metadata": {},
     "output_type": "execute_result"
    }
   ],
   "source": [
    "print(len(df))\n",
    "df.head(3) #df.tail() #df.sample()"
   ]
  },
  {
   "cell_type": "code",
   "execution_count": 5,
   "metadata": {},
   "outputs": [
    {
     "data": {
      "text/plain": [
       "Index(['Type', 'Kilométrage', 'Année-Modèle', 'Marque', 'Modèle',\n",
       "       'Nombre de portes', 'Origine', 'Secteur', 'Première main', 'equipement',\n",
       "       'price', 'Type de carburant', 'Puissance fiscale', 'Boite à vitesse',\n",
       "       'score'],\n",
       "      dtype='object')"
      ]
     },
     "execution_count": 5,
     "metadata": {},
     "output_type": "execute_result"
    }
   ],
   "source": [
    "df.columns"
   ]
  },
  {
   "cell_type": "code",
   "execution_count": 6,
   "metadata": {},
   "outputs": [
    {
     "name": "stdout",
     "output_type": "stream",
     "text": [
      "<class 'pandas.core.frame.DataFrame'>\n",
      "RangeIndex: 17430 entries, 0 to 17429\n",
      "Data columns (total 15 columns):\n",
      " #   Column             Non-Null Count  Dtype  \n",
      "---  ------             --------------  -----  \n",
      " 0   Type               17394 non-null  object \n",
      " 1   Kilométrage        17387 non-null  object \n",
      " 2   Année-Modèle       17388 non-null  object \n",
      " 3   Marque             17383 non-null  object \n",
      " 4   Modèle             17383 non-null  object \n",
      " 5   Nombre de portes   13551 non-null  float64\n",
      " 6   Origine            13058 non-null  object \n",
      " 7   Secteur            7921 non-null   object \n",
      " 8   Première main      12769 non-null  object \n",
      " 9   equipement         10103 non-null  object \n",
      " 10  price              14384 non-null  object \n",
      " 11  Type de carburant  17394 non-null  object \n",
      " 12  Puissance fiscale  17394 non-null  object \n",
      " 13  Boite à vitesse    17394 non-null  object \n",
      " 14  score              10103 non-null  float64\n",
      "dtypes: float64(2), object(13)\n",
      "memory usage: 2.0+ MB\n"
     ]
    }
   ],
   "source": [
    "df.info() #df.describe() #print(df.dtypes)"
   ]
  },
  {
   "cell_type": "markdown",
   "metadata": {},
   "source": [
    "Different data units with missing data."
   ]
  },
  {
   "cell_type": "markdown",
   "metadata": {},
   "source": [
    "********************* ********************* ********************* ********************* ********************* *****************"
   ]
  },
  {
   "cell_type": "markdown",
   "metadata": {},
   "source": [
    "## Exploratory data analysis"
   ]
  },
  {
   "cell_type": "markdown",
   "metadata": {},
   "source": [
    "#### Number of cars according to the number of doors"
   ]
  },
  {
   "cell_type": "code",
   "execution_count": 7,
   "metadata": {},
   "outputs": [
    {
     "data": {
      "text/plain": [
       "Text(0.5, 0, 'Nombre de portes')"
      ]
     },
     "execution_count": 7,
     "metadata": {},
     "output_type": "execute_result"
    },
    {
     "data": {
      "image/png": "[encoded data removed]",
      "text/plain": [
       "<Figure size 720x360 with 1 Axes>"
      ]
     },
     "metadata": {
      "needs_background": "light"
     },
     "output_type": "display_data"
    }
   ],
   "source": [
    "df['Nombre de portes'].value_counts().nlargest(40).plot(kind='bar', figsize=(10,5))\n",
    "plt.title('number of cars by Number of doors')\n",
    "plt.ylabel('number oh cars')\n",
    "plt.xlabel('Nombre de portes')"
   ]
  },
  {
   "cell_type": "markdown",
   "metadata": {},
   "source": [
    "More than 12000 cars have 5 doors, and almost 1000 cars have only 3 doors."
   ]
  },
  {
   "cell_type": "markdown",
   "metadata": {},
   "source": [
    "********************* ********************* ********************* ********************* ********************* *****************"
   ]
  },
  {
   "cell_type": "markdown",
   "metadata": {},
   "source": [
    "#### Percentage of missing values by attribute"
   ]
  },
  {
   "cell_type": "code",
   "execution_count": 8,
   "metadata": {},
   "outputs": [
    {
     "data": {
      "text/html": [
       "<div>\n",
       "<style scoped>\n",
       "    .dataframe tbody tr th:only-of-type {\n",
       "        vertical-align: middle;\n",
       "    }\n",
       "\n",
       "    .dataframe tbody tr th {\n",
       "        vertical-align: top;\n",
       "    }\n",
       "\n",
       "    .dataframe thead th {\n",
       "        text-align: right;\n",
       "    }\n",
       "</style>\n",
       "<table border=\"1\" class=\"dataframe\">\n",
       "  <thead>\n",
       "    <tr style=\"text-align: right;\">\n",
       "      <th></th>\n",
       "      <th>Total</th>\n",
       "      <th>Pourcentage</th>\n",
       "    </tr>\n",
       "  </thead>\n",
       "  <tbody>\n",
       "    <tr>\n",
       "      <th>Secteur</th>\n",
       "      <td>9509</td>\n",
       "      <td>54.555364</td>\n",
       "    </tr>\n",
       "    <tr>\n",
       "      <th>score</th>\n",
       "      <td>7327</td>\n",
       "      <td>42.036718</td>\n",
       "    </tr>\n",
       "    <tr>\n",
       "      <th>equipement</th>\n",
       "      <td>7327</td>\n",
       "      <td>42.036718</td>\n",
       "    </tr>\n",
       "    <tr>\n",
       "      <th>Première main</th>\n",
       "      <td>4661</td>\n",
       "      <td>26.741251</td>\n",
       "    </tr>\n",
       "    <tr>\n",
       "      <th>Origine</th>\n",
       "      <td>4372</td>\n",
       "      <td>25.083190</td>\n",
       "    </tr>\n",
       "    <tr>\n",
       "      <th>Nombre de portes</th>\n",
       "      <td>3879</td>\n",
       "      <td>22.254733</td>\n",
       "    </tr>\n",
       "    <tr>\n",
       "      <th>price</th>\n",
       "      <td>3046</td>\n",
       "      <td>17.475617</td>\n",
       "    </tr>\n",
       "    <tr>\n",
       "      <th>Modèle</th>\n",
       "      <td>47</td>\n",
       "      <td>0.269650</td>\n",
       "    </tr>\n",
       "    <tr>\n",
       "      <th>Marque</th>\n",
       "      <td>47</td>\n",
       "      <td>0.269650</td>\n",
       "    </tr>\n",
       "    <tr>\n",
       "      <th>Kilométrage</th>\n",
       "      <td>43</td>\n",
       "      <td>0.246701</td>\n",
       "    </tr>\n",
       "    <tr>\n",
       "      <th>Année-Modèle</th>\n",
       "      <td>42</td>\n",
       "      <td>0.240964</td>\n",
       "    </tr>\n",
       "    <tr>\n",
       "      <th>Boite à vitesse</th>\n",
       "      <td>36</td>\n",
       "      <td>0.206540</td>\n",
       "    </tr>\n",
       "    <tr>\n",
       "      <th>Puissance fiscale</th>\n",
       "      <td>36</td>\n",
       "      <td>0.206540</td>\n",
       "    </tr>\n",
       "    <tr>\n",
       "      <th>Type de carburant</th>\n",
       "      <td>36</td>\n",
       "      <td>0.206540</td>\n",
       "    </tr>\n",
       "    <tr>\n",
       "      <th>Type</th>\n",
       "      <td>36</td>\n",
       "      <td>0.206540</td>\n",
       "    </tr>\n",
       "  </tbody>\n",
       "</table>\n",
       "</div>"
      ],
      "text/plain": [
       "                   Total  Pourcentage\n",
       "Secteur             9509    54.555364\n",
       "score               7327    42.036718\n",
       "equipement          7327    42.036718\n",
       "Première main       4661    26.741251\n",
       "Origine             4372    25.083190\n",
       "Nombre de portes    3879    22.254733\n",
       "price               3046    17.475617\n",
       "Modèle                47     0.269650\n",
       "Marque                47     0.269650\n",
       "Kilométrage           43     0.246701\n",
       "Année-Modèle          42     0.240964\n",
       "Boite à vitesse       36     0.206540\n",
       "Puissance fiscale     36     0.206540\n",
       "Type de carburant     36     0.206540\n",
       "Type                  36     0.206540"
      ]
     },
     "execution_count": 8,
     "metadata": {},
     "output_type": "execute_result"
    }
   ],
   "source": [
    "total = df.isnull().sum().sort_values(ascending=False)\n",
    "percent = ((df.isnull().sum()/df.isnull().count())*100).sort_values(ascending=False)\n",
    "missing_data = pd.concat([total, percent], axis=1, keys=['Total', 'Pourcentage'])\n",
    "missing_data.head(30)"
   ]
  },
  {
   "cell_type": "code",
   "execution_count": 9,
   "metadata": {},
   "outputs": [
    {
     "data": {
      "text/plain": [
       "Text(0.5, 1.0, 'Pourcentage des valeurs manquantes par attribut ')"
      ]
     },
     "execution_count": 9,
     "metadata": {},
     "output_type": "execute_result"
    },
    {
     "data": {
      "image/png": "[encoded data removed]",
      "text/plain": [
       "<Figure size 1080x864 with 1 Axes>"
      ]
     },
     "metadata": {
      "needs_background": "light"
     },
     "output_type": "display_data"
    }
   ],
   "source": [
    "f, ax = plt.subplots(figsize=(15, 12))\n",
    "plt.xticks(rotation='90')\n",
    "sns.barplot(x=percent.index, y=percent)\n",
    "plt.xlabel('Attributs ', fontsize=15)\n",
    "plt.ylabel('Pourcentage des valeurs manquantes', fontsize=15)\n",
    "plt.title('Pourcentage des valeurs manquantes par attribut ', fontsize=15)"
   ]
  },
  {
   "cell_type": "markdown",
   "metadata": {},
   "source": [
    "The attributes Model, Brand..., Type have a low number of missing values, while we find high nbr in \n",
    "the sector has more than 50%, the score, first hand."
   ]
  },
  {
   "cell_type": "markdown",
   "metadata": {},
   "source": [
    "## Correction of data anomalies"
   ]
  },
  {
   "cell_type": "markdown",
   "metadata": {},
   "source": [
    "#### price"
   ]
  },
  {
   "cell_type": "code",
   "execution_count": 10,
   "metadata": {},
   "outputs": [],
   "source": [
    "df.price=df.price.str.replace(r\"(,| DH)\",\"\")\n",
    "p=[]\n",
    "[p.append(float(i)) if i is not None else p.append(np.nan) for i in df['price']]\n",
    "df.price=p"
   ]
  },
  {
   "cell_type": "code",
   "execution_count": 11,
   "metadata": {},
   "outputs": [
    {
     "data": {
      "text/html": [
       "<div>\n",
       "<style scoped>\n",
       "    .dataframe tbody tr th:only-of-type {\n",
       "        vertical-align: middle;\n",
       "    }\n",
       "\n",
       "    .dataframe tbody tr th {\n",
       "        vertical-align: top;\n",
       "    }\n",
       "\n",
       "    .dataframe thead th {\n",
       "        text-align: right;\n",
       "    }\n",
       "</style>\n",
       "<table border=\"1\" class=\"dataframe\">\n",
       "  <thead>\n",
       "    <tr style=\"text-align: right;\">\n",
       "      <th></th>\n",
       "      <th>Type</th>\n",
       "      <th>Kilométrage</th>\n",
       "      <th>Année-Modèle</th>\n",
       "      <th>Marque</th>\n",
       "      <th>Modèle</th>\n",
       "      <th>Nombre de portes</th>\n",
       "      <th>Origine</th>\n",
       "      <th>Secteur</th>\n",
       "      <th>Première main</th>\n",
       "      <th>equipement</th>\n",
       "      <th>price</th>\n",
       "      <th>Type de carburant</th>\n",
       "      <th>Puissance fiscale</th>\n",
       "      <th>Boite à vitesse</th>\n",
       "      <th>score</th>\n",
       "    </tr>\n",
       "  </thead>\n",
       "  <tbody>\n",
       "    <tr>\n",
       "      <th>0</th>\n",
       "      <td>Voitures, Vente</td>\n",
       "      <td>60 000 - 64 999</td>\n",
       "      <td>2016</td>\n",
       "      <td>Ford</td>\n",
       "      <td>Fiesta</td>\n",
       "      <td>5.0</td>\n",
       "      <td>WW au Maroc</td>\n",
       "      <td>Hay Mohammadi</td>\n",
       "      <td>NaN</td>\n",
       "      <td>['Airbags', 'Climatisation', 'Radar de recul',...</td>\n",
       "      <td>108000.0</td>\n",
       "      <td>Diesel</td>\n",
       "      <td>6 CV</td>\n",
       "      <td>Manuelle</td>\n",
       "      <td>15.0</td>\n",
       "    </tr>\n",
       "    <tr>\n",
       "      <th>1</th>\n",
       "      <td>Voitures, Vente</td>\n",
       "      <td>0 - 4 999</td>\n",
       "      <td>2004</td>\n",
       "      <td>Citroen</td>\n",
       "      <td>Berlingo</td>\n",
       "      <td>5.0</td>\n",
       "      <td>WW au Maroc</td>\n",
       "      <td>Sidi Othmane</td>\n",
       "      <td>Non</td>\n",
       "      <td>['Airbags', 'Vitres électriques', 'CD/MP3/Blue...</td>\n",
       "      <td>45000.0</td>\n",
       "      <td>Diesel</td>\n",
       "      <td>7 CV</td>\n",
       "      <td>Manuelle</td>\n",
       "      <td>5.0</td>\n",
       "    </tr>\n",
       "    <tr>\n",
       "      <th>2</th>\n",
       "      <td>Voitures, Vente</td>\n",
       "      <td>250 000 - 299 999</td>\n",
       "      <td>2009</td>\n",
       "      <td>Autres</td>\n",
       "      <td>Autres</td>\n",
       "      <td>5.0</td>\n",
       "      <td>NaN</td>\n",
       "      <td>NaN</td>\n",
       "      <td>Oui</td>\n",
       "      <td>NaN</td>\n",
       "      <td>100000.0</td>\n",
       "      <td>Diesel</td>\n",
       "      <td>10 CV</td>\n",
       "      <td>Manuelle</td>\n",
       "      <td>NaN</td>\n",
       "    </tr>\n",
       "  </tbody>\n",
       "</table>\n",
       "</div>"
      ],
      "text/plain": [
       "              Type        Kilométrage Année-Modèle   Marque    Modèle  \\\n",
       "0  Voitures, Vente    60 000 - 64 999         2016     Ford    Fiesta   \n",
       "1  Voitures, Vente          0 - 4 999         2004  Citroen  Berlingo   \n",
       "2  Voitures, Vente  250 000 - 299 999         2009   Autres    Autres   \n",
       "\n",
       "   Nombre de portes      Origine        Secteur Première main  \\\n",
       "0               5.0  WW au Maroc  Hay Mohammadi           NaN   \n",
       "1               5.0  WW au Maroc   Sidi Othmane           Non   \n",
       "2               5.0          NaN            NaN           Oui   \n",
       "\n",
       "                                          equipement     price  \\\n",
       "0  ['Airbags', 'Climatisation', 'Radar de recul',...  108000.0   \n",
       "1  ['Airbags', 'Vitres électriques', 'CD/MP3/Blue...   45000.0   \n",
       "2                                                NaN  100000.0   \n",
       "\n",
       "  Type de carburant Puissance fiscale Boite à vitesse  score  \n",
       "0            Diesel              6 CV        Manuelle   15.0  \n",
       "1            Diesel              7 CV        Manuelle    5.0  \n",
       "2            Diesel             10 CV        Manuelle    NaN  "
      ]
     },
     "execution_count": 11,
     "metadata": {},
     "output_type": "execute_result"
    }
   ],
   "source": [
    "df.head(3)"
   ]
  },
  {
   "cell_type": "markdown",
   "metadata": {},
   "source": [
    "********************* ********************* ********************* ********************* ********************* *****************"
   ]
  },
  {
   "cell_type": "markdown",
   "metadata": {},
   "source": [
    "#### Gearbox"
   ]
  },
  {
   "cell_type": "code",
   "execution_count": 12,
   "metadata": {},
   "outputs": [
    {
     "data": {
      "image/png": "[encoded data removed]",
      "text/plain": [
       "<Figure size 576x432 with 1 Axes>"
      ]
     },
     "metadata": {
      "needs_background": "light"
     },
     "output_type": "display_data"
    }
   ],
   "source": [
    "#box plot de Boite à vitesse et price\n",
    "var = 'Boite à vitesse'\n",
    "data = pd.concat([df['price'], df[var]], axis=1)\n",
    "f, ax = plt.subplots(figsize=(8, 6))\n",
    "fig = sns.boxplot(x=var, y=\"price\", data=data)\n",
    "fig.axis(ymin=0, ymax=800000);"
   ]
  },
  {
   "cell_type": "markdown",
   "metadata": {},
   "source": [
    "The prices of manual cars are between 200000DH and 800000DH, while automatic cars are between 450000DH and 800000"
   ]
  },
  {
   "cell_type": "code",
   "execution_count": 13,
   "metadata": {},
   "outputs": [
    {
     "data": {
      "text/plain": [
       "array(['Manuelle', '--', 'Automatique', nan], dtype=object)"
      ]
     },
     "execution_count": 13,
     "metadata": {},
     "output_type": "execute_result"
    }
   ],
   "source": [
    "df['Boite à vitesse'].unique()"
   ]
  },
  {
   "cell_type": "code",
   "execution_count": 14,
   "metadata": {},
   "outputs": [],
   "source": [
    "df['Boite à vitesse']=df['Boite à vitesse'].replace('--',np.nan)"
   ]
  },
  {
   "cell_type": "code",
   "execution_count": 15,
   "metadata": {},
   "outputs": [
    {
     "data": {
      "text/plain": [
       "array(['Manuelle', nan, 'Automatique'], dtype=object)"
      ]
     },
     "execution_count": 15,
     "metadata": {},
     "output_type": "execute_result"
    }
   ],
   "source": [
    "df['Boite à vitesse'].unique()"
   ]
  },
  {
   "cell_type": "markdown",
   "metadata": {},
   "source": [
    "********************* ********************* ********************* ********************* ********************* *****************"
   ]
  },
  {
   "cell_type": "markdown",
   "metadata": {},
   "source": [
    "#### Année-Modèle"
   ]
  },
  {
   "cell_type": "code",
   "execution_count": 16,
   "metadata": {},
   "outputs": [
    {
     "data": {
      "text/plain": [
       "array(['2016', '2004', '2009', '2010', '2011', '1987', '2015', '2017',\n",
       "       '2003', '2005', '2002', '2018', '2008', '2020', '2012', '1994',\n",
       "       '2014', '2001', '2013', '1991', '1996', '2007', '2006', '1999',\n",
       "       '2019', '1985', '1992', '1986', '1995', '1988', '1989', '1998',\n",
       "       '2000', '1980 ou plus ancien', '1990', '1997', '1984', nan, '1993',\n",
       "       '1983', '1982', '1981'], dtype=object)"
      ]
     },
     "execution_count": 16,
     "metadata": {},
     "output_type": "execute_result"
    }
   ],
   "source": [
    "df['Année-Modèle'].unique()"
   ]
  },
  {
   "cell_type": "code",
   "execution_count": 17,
   "metadata": {},
   "outputs": [],
   "source": [
    "df['Année-Modèle']=df['Année-Modèle'].replace('1980 ou plus ancien','1980')\n",
    "p=[]\n",
    "[p.append(float(i)) if i is not None else p.append(np.nan) for i in df['Année-Modèle']]\n",
    "df['Année-Modèle']=p"
   ]
  },
  {
   "cell_type": "code",
   "execution_count": 18,
   "metadata": {},
   "outputs": [
    {
     "data": {
      "text/plain": [
       "array([2016., 2004., 2009., 2010., 2011., 1987., 2015., 2017., 2003.,\n",
       "       2005., 2002., 2018., 2008., 2020., 2012., 1994., 2014., 2001.,\n",
       "       2013., 1991., 1996., 2007., 2006., 1999., 2019., 1985., 1992.,\n",
       "       1986., 1995., 1988., 1989., 1998., 2000., 1980., 1990., 1997.,\n",
       "       1984.,   nan, 1993., 1983., 1982., 1981.])"
      ]
     },
     "execution_count": 18,
     "metadata": {},
     "output_type": "execute_result"
    }
   ],
   "source": [
    "df['Année-Modèle'].unique()"
   ]
  },
  {
   "cell_type": "markdown",
   "metadata": {},
   "source": [
    "********************* ********************* ********************* ********************* ********************* *****************"
   ]
  },
  {
   "cell_type": "code",
   "execution_count": 19,
   "metadata": {
    "scrolled": true
   },
   "outputs": [
    {
     "data": {
      "text/html": [
       "<div>\n",
       "<style scoped>\n",
       "    .dataframe tbody tr th:only-of-type {\n",
       "        vertical-align: middle;\n",
       "    }\n",
       "\n",
       "    .dataframe tbody tr th {\n",
       "        vertical-align: top;\n",
       "    }\n",
       "\n",
       "    .dataframe thead th {\n",
       "        text-align: right;\n",
       "    }\n",
       "</style>\n",
       "<table border=\"1\" class=\"dataframe\">\n",
       "  <thead>\n",
       "    <tr style=\"text-align: right;\">\n",
       "      <th></th>\n",
       "      <th>Type</th>\n",
       "      <th>Kilométrage</th>\n",
       "      <th>Année-Modèle</th>\n",
       "      <th>Marque</th>\n",
       "      <th>Modèle</th>\n",
       "      <th>Nombre de portes</th>\n",
       "      <th>Origine</th>\n",
       "      <th>Secteur</th>\n",
       "      <th>Première main</th>\n",
       "      <th>equipement</th>\n",
       "      <th>price</th>\n",
       "      <th>Type de carburant</th>\n",
       "      <th>Puissance fiscale</th>\n",
       "      <th>Boite à vitesse</th>\n",
       "      <th>score</th>\n",
       "    </tr>\n",
       "  </thead>\n",
       "  <tbody>\n",
       "    <tr>\n",
       "      <th>0</th>\n",
       "      <td>Voitures, Vente</td>\n",
       "      <td>60 000 - 64 999</td>\n",
       "      <td>2016.0</td>\n",
       "      <td>Ford</td>\n",
       "      <td>Fiesta</td>\n",
       "      <td>5.0</td>\n",
       "      <td>WW au Maroc</td>\n",
       "      <td>Hay Mohammadi</td>\n",
       "      <td>NaN</td>\n",
       "      <td>['Airbags', 'Climatisation', 'Radar de recul',...</td>\n",
       "      <td>108000.0</td>\n",
       "      <td>Diesel</td>\n",
       "      <td>6 CV</td>\n",
       "      <td>Manuelle</td>\n",
       "      <td>15.0</td>\n",
       "    </tr>\n",
       "    <tr>\n",
       "      <th>1</th>\n",
       "      <td>Voitures, Vente</td>\n",
       "      <td>0 - 4 999</td>\n",
       "      <td>2004.0</td>\n",
       "      <td>Citroen</td>\n",
       "      <td>Berlingo</td>\n",
       "      <td>5.0</td>\n",
       "      <td>WW au Maroc</td>\n",
       "      <td>Sidi Othmane</td>\n",
       "      <td>Non</td>\n",
       "      <td>['Airbags', 'Vitres électriques', 'CD/MP3/Blue...</td>\n",
       "      <td>45000.0</td>\n",
       "      <td>Diesel</td>\n",
       "      <td>7 CV</td>\n",
       "      <td>Manuelle</td>\n",
       "      <td>5.0</td>\n",
       "    </tr>\n",
       "    <tr>\n",
       "      <th>2</th>\n",
       "      <td>Voitures, Vente</td>\n",
       "      <td>250 000 - 299 999</td>\n",
       "      <td>2009.0</td>\n",
       "      <td>Autres</td>\n",
       "      <td>Autres</td>\n",
       "      <td>5.0</td>\n",
       "      <td>NaN</td>\n",
       "      <td>NaN</td>\n",
       "      <td>Oui</td>\n",
       "      <td>NaN</td>\n",
       "      <td>100000.0</td>\n",
       "      <td>Diesel</td>\n",
       "      <td>10 CV</td>\n",
       "      <td>Manuelle</td>\n",
       "      <td>NaN</td>\n",
       "    </tr>\n",
       "  </tbody>\n",
       "</table>\n",
       "</div>"
      ],
      "text/plain": [
       "              Type        Kilométrage  Année-Modèle   Marque    Modèle  \\\n",
       "0  Voitures, Vente    60 000 - 64 999        2016.0     Ford    Fiesta   \n",
       "1  Voitures, Vente          0 - 4 999        2004.0  Citroen  Berlingo   \n",
       "2  Voitures, Vente  250 000 - 299 999        2009.0   Autres    Autres   \n",
       "\n",
       "   Nombre de portes      Origine        Secteur Première main  \\\n",
       "0               5.0  WW au Maroc  Hay Mohammadi           NaN   \n",
       "1               5.0  WW au Maroc   Sidi Othmane           Non   \n",
       "2               5.0          NaN            NaN           Oui   \n",
       "\n",
       "                                          equipement     price  \\\n",
       "0  ['Airbags', 'Climatisation', 'Radar de recul',...  108000.0   \n",
       "1  ['Airbags', 'Vitres électriques', 'CD/MP3/Blue...   45000.0   \n",
       "2                                                NaN  100000.0   \n",
       "\n",
       "  Type de carburant Puissance fiscale Boite à vitesse  score  \n",
       "0            Diesel              6 CV        Manuelle   15.0  \n",
       "1            Diesel              7 CV        Manuelle    5.0  \n",
       "2            Diesel             10 CV        Manuelle    NaN  "
      ]
     },
     "execution_count": 19,
     "metadata": {},
     "output_type": "execute_result"
    }
   ],
   "source": [
    "df.head(3)"
   ]
  },
  {
   "cell_type": "markdown",
   "metadata": {},
   "source": [
    "********************* ********************* ********************* ********************* ********************* *****************"
   ]
  },
  {
   "cell_type": "markdown",
   "metadata": {},
   "source": [
    "#### Puissance fiscale"
   ]
  },
  {
   "cell_type": "code",
   "execution_count": 20,
   "metadata": {},
   "outputs": [
    {
     "data": {
      "text/plain": [
       "array(['6 CV', '7 CV', '10 CV', '8 CV', '12 CV', '11 CV', '--', '9 CV',\n",
       "       '5 CV', '17 CV', '13 CV', '14 CV', '15 CV', nan, '4 CV', '21 CV',\n",
       "       '16 CV', '24 CV', '19 CV', '22 CV', '31 CV', '28 CV', '20 CV',\n",
       "       '18 CV', '40 CV', '18', '23 CV', '41 CV', '26 CV', '33 CV',\n",
       "       '25 CV', 'Plus de 41 CV', '39 CV', '34 CV', '36 CV', '30 CV'],\n",
       "      dtype=object)"
      ]
     },
     "execution_count": 20,
     "metadata": {},
     "output_type": "execute_result"
    }
   ],
   "source": [
    "df[\"Puissance fiscale\"].unique()"
   ]
  },
  {
   "cell_type": "code",
   "execution_count": 21,
   "metadata": {},
   "outputs": [
    {
     "data": {
      "text/plain": [
       "array([ 6.,  7., 10.,  8., 12., 11., nan,  9.,  5., 17., 13., 14., 15.,\n",
       "        4., 21., 16., 24., 19., 22., 31., 28., 20., 18., 40., 23., 41.,\n",
       "       26., 33., 25., 39., 34., 36., 30.])"
      ]
     },
     "execution_count": 21,
     "metadata": {},
     "output_type": "execute_result"
    }
   ],
   "source": [
    "df['Puissance fiscale']=df['Puissance fiscale'].replace('Plus de 41 CV','41').replace('--',np.nan)\n",
    "p=[]\n",
    "[p.append(float(i.strip(' CV'))) if i is not np.nan else p.append(np.nan) for i in df['Puissance fiscale']]\n",
    "df['Puissance fiscale']=p\n",
    "df['Puissance fiscale'].unique()"
   ]
  },
  {
   "cell_type": "markdown",
   "metadata": {},
   "source": [
    "********************* ********************* ********************* ********************* ********************* *****************"
   ]
  },
  {
   "cell_type": "code",
   "execution_count": 22,
   "metadata": {},
   "outputs": [
    {
     "data": {
      "text/html": [
       "<div>\n",
       "<style scoped>\n",
       "    .dataframe tbody tr th:only-of-type {\n",
       "        vertical-align: middle;\n",
       "    }\n",
       "\n",
       "    .dataframe tbody tr th {\n",
       "        vertical-align: top;\n",
       "    }\n",
       "\n",
       "    .dataframe thead th {\n",
       "        text-align: right;\n",
       "    }\n",
       "</style>\n",
       "<table border=\"1\" class=\"dataframe\">\n",
       "  <thead>\n",
       "    <tr style=\"text-align: right;\">\n",
       "      <th></th>\n",
       "      <th>Type</th>\n",
       "      <th>Kilométrage</th>\n",
       "      <th>Année-Modèle</th>\n",
       "      <th>Marque</th>\n",
       "      <th>Modèle</th>\n",
       "      <th>Nombre de portes</th>\n",
       "      <th>Origine</th>\n",
       "      <th>Secteur</th>\n",
       "      <th>Première main</th>\n",
       "      <th>equipement</th>\n",
       "      <th>price</th>\n",
       "      <th>Type de carburant</th>\n",
       "      <th>Puissance fiscale</th>\n",
       "      <th>Boite à vitesse</th>\n",
       "      <th>score</th>\n",
       "    </tr>\n",
       "  </thead>\n",
       "  <tbody>\n",
       "    <tr>\n",
       "      <th>0</th>\n",
       "      <td>Voitures, Vente</td>\n",
       "      <td>60 000 - 64 999</td>\n",
       "      <td>2016.0</td>\n",
       "      <td>Ford</td>\n",
       "      <td>Fiesta</td>\n",
       "      <td>5.0</td>\n",
       "      <td>WW au Maroc</td>\n",
       "      <td>Hay Mohammadi</td>\n",
       "      <td>NaN</td>\n",
       "      <td>['Airbags', 'Climatisation', 'Radar de recul',...</td>\n",
       "      <td>108000.0</td>\n",
       "      <td>Diesel</td>\n",
       "      <td>6.0</td>\n",
       "      <td>Manuelle</td>\n",
       "      <td>15.0</td>\n",
       "    </tr>\n",
       "    <tr>\n",
       "      <th>1</th>\n",
       "      <td>Voitures, Vente</td>\n",
       "      <td>0 - 4 999</td>\n",
       "      <td>2004.0</td>\n",
       "      <td>Citroen</td>\n",
       "      <td>Berlingo</td>\n",
       "      <td>5.0</td>\n",
       "      <td>WW au Maroc</td>\n",
       "      <td>Sidi Othmane</td>\n",
       "      <td>Non</td>\n",
       "      <td>['Airbags', 'Vitres électriques', 'CD/MP3/Blue...</td>\n",
       "      <td>45000.0</td>\n",
       "      <td>Diesel</td>\n",
       "      <td>7.0</td>\n",
       "      <td>Manuelle</td>\n",
       "      <td>5.0</td>\n",
       "    </tr>\n",
       "    <tr>\n",
       "      <th>2</th>\n",
       "      <td>Voitures, Vente</td>\n",
       "      <td>250 000 - 299 999</td>\n",
       "      <td>2009.0</td>\n",
       "      <td>Autres</td>\n",
       "      <td>Autres</td>\n",
       "      <td>5.0</td>\n",
       "      <td>NaN</td>\n",
       "      <td>NaN</td>\n",
       "      <td>Oui</td>\n",
       "      <td>NaN</td>\n",
       "      <td>100000.0</td>\n",
       "      <td>Diesel</td>\n",
       "      <td>10.0</td>\n",
       "      <td>Manuelle</td>\n",
       "      <td>NaN</td>\n",
       "    </tr>\n",
       "  </tbody>\n",
       "</table>\n",
       "</div>"
      ],
      "text/plain": [
       "              Type        Kilométrage  Année-Modèle   Marque    Modèle  \\\n",
       "0  Voitures, Vente    60 000 - 64 999        2016.0     Ford    Fiesta   \n",
       "1  Voitures, Vente          0 - 4 999        2004.0  Citroen  Berlingo   \n",
       "2  Voitures, Vente  250 000 - 299 999        2009.0   Autres    Autres   \n",
       "\n",
       "   Nombre de portes      Origine        Secteur Première main  \\\n",
       "0               5.0  WW au Maroc  Hay Mohammadi           NaN   \n",
       "1               5.0  WW au Maroc   Sidi Othmane           Non   \n",
       "2               5.0          NaN            NaN           Oui   \n",
       "\n",
       "                                          equipement     price  \\\n",
       "0  ['Airbags', 'Climatisation', 'Radar de recul',...  108000.0   \n",
       "1  ['Airbags', 'Vitres électriques', 'CD/MP3/Blue...   45000.0   \n",
       "2                                                NaN  100000.0   \n",
       "\n",
       "  Type de carburant  Puissance fiscale Boite à vitesse  score  \n",
       "0            Diesel                6.0        Manuelle   15.0  \n",
       "1            Diesel                7.0        Manuelle    5.0  \n",
       "2            Diesel               10.0        Manuelle    NaN  "
      ]
     },
     "execution_count": 22,
     "metadata": {},
     "output_type": "execute_result"
    }
   ],
   "source": [
    "df.head(3)"
   ]
  },
  {
   "cell_type": "markdown",
   "metadata": {},
   "source": [
    "********************* ********************* ********************* ********************* ********************* *****************"
   ]
  },
  {
   "cell_type": "markdown",
   "metadata": {},
   "source": [
    "#### Type de carburant"
   ]
  },
  {
   "cell_type": "code",
   "execution_count": 23,
   "metadata": {},
   "outputs": [
    {
     "data": {
      "text/plain": [
       "array(['Diesel', 'Essence', 'Hybride', nan, 'Electrique', '--', 'LPG'],\n",
       "      dtype=object)"
      ]
     },
     "execution_count": 23,
     "metadata": {},
     "output_type": "execute_result"
    }
   ],
   "source": [
    "df['Type de carburant'].unique()"
   ]
  },
  {
   "cell_type": "code",
   "execution_count": 24,
   "metadata": {},
   "outputs": [],
   "source": [
    "df['Type de carburant']=df['Type de carburant'].replace('--',np.nan)"
   ]
  },
  {
   "cell_type": "code",
   "execution_count": 25,
   "metadata": {},
   "outputs": [
    {
     "data": {
      "text/plain": [
       "array(['Diesel', 'Essence', 'Hybride', nan, 'Electrique', 'LPG'],\n",
       "      dtype=object)"
      ]
     },
     "execution_count": 25,
     "metadata": {},
     "output_type": "execute_result"
    }
   ],
   "source": [
    "df['Type de carburant'].unique()"
   ]
  },
  {
   "cell_type": "markdown",
   "metadata": {},
   "source": [
    "********************* ********************* ********************* ********************* ********************* *****************"
   ]
  },
  {
   "cell_type": "code",
   "execution_count": 26,
   "metadata": {},
   "outputs": [
    {
     "data": {
      "text/html": [
       "<div>\n",
       "<style scoped>\n",
       "    .dataframe tbody tr th:only-of-type {\n",
       "        vertical-align: middle;\n",
       "    }\n",
       "\n",
       "    .dataframe tbody tr th {\n",
       "        vertical-align: top;\n",
       "    }\n",
       "\n",
       "    .dataframe thead th {\n",
       "        text-align: right;\n",
       "    }\n",
       "</style>\n",
       "<table border=\"1\" class=\"dataframe\">\n",
       "  <thead>\n",
       "    <tr style=\"text-align: right;\">\n",
       "      <th></th>\n",
       "      <th>Type</th>\n",
       "      <th>Kilométrage</th>\n",
       "      <th>Année-Modèle</th>\n",
       "      <th>Marque</th>\n",
       "      <th>Modèle</th>\n",
       "      <th>Nombre de portes</th>\n",
       "      <th>Origine</th>\n",
       "      <th>Secteur</th>\n",
       "      <th>Première main</th>\n",
       "      <th>equipement</th>\n",
       "      <th>price</th>\n",
       "      <th>Type de carburant</th>\n",
       "      <th>Puissance fiscale</th>\n",
       "      <th>Boite à vitesse</th>\n",
       "      <th>score</th>\n",
       "    </tr>\n",
       "  </thead>\n",
       "  <tbody>\n",
       "    <tr>\n",
       "      <th>0</th>\n",
       "      <td>Voitures, Vente</td>\n",
       "      <td>60 000 - 64 999</td>\n",
       "      <td>2016.0</td>\n",
       "      <td>Ford</td>\n",
       "      <td>Fiesta</td>\n",
       "      <td>5.0</td>\n",
       "      <td>WW au Maroc</td>\n",
       "      <td>Hay Mohammadi</td>\n",
       "      <td>NaN</td>\n",
       "      <td>['Airbags', 'Climatisation', 'Radar de recul',...</td>\n",
       "      <td>108000.0</td>\n",
       "      <td>Diesel</td>\n",
       "      <td>6.0</td>\n",
       "      <td>Manuelle</td>\n",
       "      <td>15.0</td>\n",
       "    </tr>\n",
       "    <tr>\n",
       "      <th>1</th>\n",
       "      <td>Voitures, Vente</td>\n",
       "      <td>0 - 4 999</td>\n",
       "      <td>2004.0</td>\n",
       "      <td>Citroen</td>\n",
       "      <td>Berlingo</td>\n",
       "      <td>5.0</td>\n",
       "      <td>WW au Maroc</td>\n",
       "      <td>Sidi Othmane</td>\n",
       "      <td>Non</td>\n",
       "      <td>['Airbags', 'Vitres électriques', 'CD/MP3/Blue...</td>\n",
       "      <td>45000.0</td>\n",
       "      <td>Diesel</td>\n",
       "      <td>7.0</td>\n",
       "      <td>Manuelle</td>\n",
       "      <td>5.0</td>\n",
       "    </tr>\n",
       "    <tr>\n",
       "      <th>2</th>\n",
       "      <td>Voitures, Vente</td>\n",
       "      <td>250 000 - 299 999</td>\n",
       "      <td>2009.0</td>\n",
       "      <td>Autres</td>\n",
       "      <td>Autres</td>\n",
       "      <td>5.0</td>\n",
       "      <td>NaN</td>\n",
       "      <td>NaN</td>\n",
       "      <td>Oui</td>\n",
       "      <td>NaN</td>\n",
       "      <td>100000.0</td>\n",
       "      <td>Diesel</td>\n",
       "      <td>10.0</td>\n",
       "      <td>Manuelle</td>\n",
       "      <td>NaN</td>\n",
       "    </tr>\n",
       "  </tbody>\n",
       "</table>\n",
       "</div>"
      ],
      "text/plain": [
       "              Type        Kilométrage  Année-Modèle   Marque    Modèle  \\\n",
       "0  Voitures, Vente    60 000 - 64 999        2016.0     Ford    Fiesta   \n",
       "1  Voitures, Vente          0 - 4 999        2004.0  Citroen  Berlingo   \n",
       "2  Voitures, Vente  250 000 - 299 999        2009.0   Autres    Autres   \n",
       "\n",
       "   Nombre de portes      Origine        Secteur Première main  \\\n",
       "0               5.0  WW au Maroc  Hay Mohammadi           NaN   \n",
       "1               5.0  WW au Maroc   Sidi Othmane           Non   \n",
       "2               5.0          NaN            NaN           Oui   \n",
       "\n",
       "                                          equipement     price  \\\n",
       "0  ['Airbags', 'Climatisation', 'Radar de recul',...  108000.0   \n",
       "1  ['Airbags', 'Vitres électriques', 'CD/MP3/Blue...   45000.0   \n",
       "2                                                NaN  100000.0   \n",
       "\n",
       "  Type de carburant  Puissance fiscale Boite à vitesse  score  \n",
       "0            Diesel                6.0        Manuelle   15.0  \n",
       "1            Diesel                7.0        Manuelle    5.0  \n",
       "2            Diesel               10.0        Manuelle    NaN  "
      ]
     },
     "execution_count": 26,
     "metadata": {},
     "output_type": "execute_result"
    }
   ],
   "source": [
    "df.head(3)"
   ]
  },
  {
   "cell_type": "markdown",
   "metadata": {},
   "source": [
    "********************* ********************* ********************* ********************* ********************* *****************"
   ]
  },
  {
   "cell_type": "markdown",
   "metadata": {},
   "source": [
    "#### Kilométrage"
   ]
  },
  {
   "cell_type": "code",
   "execution_count": 27,
   "metadata": {
    "scrolled": true
   },
   "outputs": [
    {
     "data": {
      "text/plain": [
       "array(['60 000 - 64 999', '0 - 4 999', '250 000 - 299 999',\n",
       "       '110 000 - 119 999', '85 000 - 89 999', '10 000 - 14 999',\n",
       "       '150 000 - 159 999', '95 000 - 99 999', '120 000 - 129 999',\n",
       "       '100 000 - 109 999', '160 000 - 169 999', '75 000 - 79 999',\n",
       "       '30 000 - 34 999', '140 000 - 149 999', '5 000 - 9 999',\n",
       "       '130 000 - 139 999', '35 000 - 39 999', '65 000 - 69 999',\n",
       "       '200 000 - 249 999', '45 000 - 49 999', '55 000 - 59 999',\n",
       "       '300 000 - 349 999', '90 000 - 94 999', '20 000 - 24 999',\n",
       "       '80 000 - 84 999', '25 000 - 29 999', '190 000 - 199 999',\n",
       "       '15 000 - 19 999', '400 000 - 449 999', '70 000 - 74 999',\n",
       "       '40 000 - 44 999', '450 000 - 499 999', '50 000 - 54 999',\n",
       "       '350 000 - 399 999', '170 000 - 179 999', '180 000 - 189 999',\n",
       "       'Plus de 500 000', nan], dtype=object)"
      ]
     },
     "execution_count": 27,
     "metadata": {},
     "output_type": "execute_result"
    }
   ],
   "source": [
    "df['Kilométrage'].unique()"
   ]
  },
  {
   "cell_type": "code",
   "execution_count": 28,
   "metadata": {},
   "outputs": [
    {
     "name": "stdout",
     "output_type": "stream",
     "text": [
      "43\n"
     ]
    }
   ],
   "source": [
    "df['Kilométrage']=df['Kilométrage'].replace('Plus de 500 000','500000').replace(' ','')\n",
    "print(df['Kilométrage'].isnull().sum())"
   ]
  },
  {
   "cell_type": "code",
   "execution_count": 29,
   "metadata": {},
   "outputs": [
    {
     "data": {
      "text/plain": [
       "array([ 62499.,   2499., 274999., 114999.,  87499.,  12499., 154999.,\n",
       "        97499., 124999., 104999., 164999.,  77499.,  32499., 144999.,\n",
       "         7499., 134999.,  37499.,  67499., 224999.,  47499.,  57499.,\n",
       "       324999.,  92499.,  22499.,  82499.,  27499., 194999.,  17499.,\n",
       "       424999.,  72499.,  42499., 474999.,  52499., 374999., 174999.,\n",
       "       184999., 500000.])"
      ]
     },
     "execution_count": 29,
     "metadata": {},
     "output_type": "execute_result"
    }
   ],
   "source": [
    "df=df[df['Kilométrage'].notnull()]\n",
    "a=[]\n",
    "[a.append((float(i.replace(' ','').split('-')[0])+float(i.replace(' ','').split('-')[1]))//2) if '-' in i else a.append(float(i)) for i in df['Kilométrage']]\n",
    "df['Kilométrage']=a\n",
    "df['Kilométrage'].unique()"
   ]
  },
  {
   "cell_type": "markdown",
   "metadata": {},
   "source": [
    "********************* ********************* ********************* ********************* ********************* *****************"
   ]
  },
  {
   "cell_type": "code",
   "execution_count": 30,
   "metadata": {},
   "outputs": [
    {
     "data": {
      "text/html": [
       "<div>\n",
       "<style scoped>\n",
       "    .dataframe tbody tr th:only-of-type {\n",
       "        vertical-align: middle;\n",
       "    }\n",
       "\n",
       "    .dataframe tbody tr th {\n",
       "        vertical-align: top;\n",
       "    }\n",
       "\n",
       "    .dataframe thead th {\n",
       "        text-align: right;\n",
       "    }\n",
       "</style>\n",
       "<table border=\"1\" class=\"dataframe\">\n",
       "  <thead>\n",
       "    <tr style=\"text-align: right;\">\n",
       "      <th></th>\n",
       "      <th>Type</th>\n",
       "      <th>Kilométrage</th>\n",
       "      <th>Année-Modèle</th>\n",
       "      <th>Marque</th>\n",
       "      <th>Modèle</th>\n",
       "      <th>Nombre de portes</th>\n",
       "      <th>Origine</th>\n",
       "      <th>Secteur</th>\n",
       "      <th>Première main</th>\n",
       "      <th>equipement</th>\n",
       "      <th>price</th>\n",
       "      <th>Type de carburant</th>\n",
       "      <th>Puissance fiscale</th>\n",
       "      <th>Boite à vitesse</th>\n",
       "      <th>score</th>\n",
       "    </tr>\n",
       "  </thead>\n",
       "  <tbody>\n",
       "    <tr>\n",
       "      <th>0</th>\n",
       "      <td>Voitures, Vente</td>\n",
       "      <td>62499.0</td>\n",
       "      <td>2016.0</td>\n",
       "      <td>Ford</td>\n",
       "      <td>Fiesta</td>\n",
       "      <td>5.0</td>\n",
       "      <td>WW au Maroc</td>\n",
       "      <td>Hay Mohammadi</td>\n",
       "      <td>NaN</td>\n",
       "      <td>['Airbags', 'Climatisation', 'Radar de recul',...</td>\n",
       "      <td>108000.0</td>\n",
       "      <td>Diesel</td>\n",
       "      <td>6.0</td>\n",
       "      <td>Manuelle</td>\n",
       "      <td>15.0</td>\n",
       "    </tr>\n",
       "    <tr>\n",
       "      <th>1</th>\n",
       "      <td>Voitures, Vente</td>\n",
       "      <td>2499.0</td>\n",
       "      <td>2004.0</td>\n",
       "      <td>Citroen</td>\n",
       "      <td>Berlingo</td>\n",
       "      <td>5.0</td>\n",
       "      <td>WW au Maroc</td>\n",
       "      <td>Sidi Othmane</td>\n",
       "      <td>Non</td>\n",
       "      <td>['Airbags', 'Vitres électriques', 'CD/MP3/Blue...</td>\n",
       "      <td>45000.0</td>\n",
       "      <td>Diesel</td>\n",
       "      <td>7.0</td>\n",
       "      <td>Manuelle</td>\n",
       "      <td>5.0</td>\n",
       "    </tr>\n",
       "    <tr>\n",
       "      <th>2</th>\n",
       "      <td>Voitures, Vente</td>\n",
       "      <td>274999.0</td>\n",
       "      <td>2009.0</td>\n",
       "      <td>Autres</td>\n",
       "      <td>Autres</td>\n",
       "      <td>5.0</td>\n",
       "      <td>NaN</td>\n",
       "      <td>NaN</td>\n",
       "      <td>Oui</td>\n",
       "      <td>NaN</td>\n",
       "      <td>100000.0</td>\n",
       "      <td>Diesel</td>\n",
       "      <td>10.0</td>\n",
       "      <td>Manuelle</td>\n",
       "      <td>NaN</td>\n",
       "    </tr>\n",
       "  </tbody>\n",
       "</table>\n",
       "</div>"
      ],
      "text/plain": [
       "              Type  Kilométrage  Année-Modèle   Marque    Modèle  \\\n",
       "0  Voitures, Vente      62499.0        2016.0     Ford    Fiesta   \n",
       "1  Voitures, Vente       2499.0        2004.0  Citroen  Berlingo   \n",
       "2  Voitures, Vente     274999.0        2009.0   Autres    Autres   \n",
       "\n",
       "   Nombre de portes      Origine        Secteur Première main  \\\n",
       "0               5.0  WW au Maroc  Hay Mohammadi           NaN   \n",
       "1               5.0  WW au Maroc   Sidi Othmane           Non   \n",
       "2               5.0          NaN            NaN           Oui   \n",
       "\n",
       "                                          equipement     price  \\\n",
       "0  ['Airbags', 'Climatisation', 'Radar de recul',...  108000.0   \n",
       "1  ['Airbags', 'Vitres électriques', 'CD/MP3/Blue...   45000.0   \n",
       "2                                                NaN  100000.0   \n",
       "\n",
       "  Type de carburant  Puissance fiscale Boite à vitesse  score  \n",
       "0            Diesel                6.0        Manuelle   15.0  \n",
       "1            Diesel                7.0        Manuelle    5.0  \n",
       "2            Diesel               10.0        Manuelle    NaN  "
      ]
     },
     "execution_count": 30,
     "metadata": {},
     "output_type": "execute_result"
    }
   ],
   "source": [
    "df.head(3)"
   ]
  },
  {
   "cell_type": "markdown",
   "metadata": {},
   "source": [
    "********************* ********************* ********************* ********************* ********************* *****************"
   ]
  },
  {
   "cell_type": "markdown",
   "metadata": {},
   "source": [
    "#### Type"
   ]
  },
  {
   "cell_type": "code",
   "execution_count": 31,
   "metadata": {},
   "outputs": [
    {
     "data": {
      "text/plain": [
       "array(['Voitures, Vente'], dtype=object)"
      ]
     },
     "execution_count": 31,
     "metadata": {},
     "output_type": "execute_result"
    }
   ],
   "source": [
    "df.Type.unique()"
   ]
  },
  {
   "cell_type": "code",
   "execution_count": 32,
   "metadata": {},
   "outputs": [],
   "source": [
    "del(df['Type'])"
   ]
  },
  {
   "cell_type": "markdown",
   "metadata": {},
   "source": [
    "********************* ********************* ********************* ********************* ********************* *****************"
   ]
  },
  {
   "cell_type": "markdown",
   "metadata": {},
   "source": [
    "## data cleansing"
   ]
  },
  {
   "cell_type": "markdown",
   "metadata": {},
   "source": [
    "#### Type de carburant"
   ]
  },
  {
   "cell_type": "code",
   "execution_count": 33,
   "metadata": {},
   "outputs": [
    {
     "data": {
      "text/plain": [
       "4"
      ]
     },
     "execution_count": 33,
     "metadata": {},
     "output_type": "execute_result"
    }
   ],
   "source": [
    "df['Type de carburant'].isnull().sum()"
   ]
  },
  {
   "cell_type": "code",
   "execution_count": 34,
   "metadata": {},
   "outputs": [],
   "source": [
    "df=df[df['Type de carburant'].notnull()]"
   ]
  },
  {
   "cell_type": "markdown",
   "metadata": {},
   "source": [
    "********************* ********************* ********************* ********************* ********************* *****************"
   ]
  },
  {
   "cell_type": "markdown",
   "metadata": {},
   "source": [
    "### Using KNN Imputer to replace missing values"
   ]
  },
  {
   "cell_type": "markdown",
   "metadata": {},
   "source": [
    "#### Puissance fiscale"
   ]
  },
  {
   "cell_type": "code",
   "execution_count": 35,
   "metadata": {},
   "outputs": [
    {
     "data": {
      "text/plain": [
       "1412"
      ]
     },
     "execution_count": 35,
     "metadata": {},
     "output_type": "execute_result"
    }
   ],
   "source": [
    "df['Puissance fiscale'].isnull().sum()"
   ]
  },
  {
   "cell_type": "code",
   "execution_count": 36,
   "metadata": {},
   "outputs": [],
   "source": [
    "#Imputation par les k plus proches voisins\n",
    "from sklearn.impute import KNNImputer\n",
    "df['Puissance fiscale'] = KNNImputer(n_neighbors=3).fit_transform(df['Puissance fiscale'].values.reshape(-1, 1))"
   ]
  },
  {
   "cell_type": "code",
   "execution_count": 37,
   "metadata": {},
   "outputs": [
    {
     "data": {
      "text/plain": [
       "0"
      ]
     },
     "execution_count": 37,
     "metadata": {},
     "output_type": "execute_result"
    }
   ],
   "source": [
    "df['Puissance fiscale'].isnull().sum()"
   ]
  },
  {
   "cell_type": "markdown",
   "metadata": {},
   "source": [
    "********************* ********************* ********************* ********************* ********************* *****************"
   ]
  },
  {
   "cell_type": "markdown",
   "metadata": {},
   "source": [
    "#### Replacing NaN by the most frequent Value (Categorical Features)"
   ]
  },
  {
   "cell_type": "markdown",
   "metadata": {},
   "source": [
    "#### Boite à vitesse"
   ]
  },
  {
   "cell_type": "code",
   "execution_count": 38,
   "metadata": {},
   "outputs": [
    {
     "data": {
      "text/plain": [
       "2802"
      ]
     },
     "execution_count": 38,
     "metadata": {},
     "output_type": "execute_result"
    }
   ],
   "source": [
    "df['Boite à vitesse'].isnull().sum()"
   ]
  },
  {
   "cell_type": "code",
   "execution_count": 39,
   "metadata": {},
   "outputs": [],
   "source": [
    "df[\"Boite à vitesse\"] = df[\"Boite à vitesse\"].map({'Automatique':1, 'Manuelle':0})"
   ]
  },
  {
   "cell_type": "code",
   "execution_count": 40,
   "metadata": {},
   "outputs": [],
   "source": [
    "#df['price'].corr(df['Boite à vitesse'])"
   ]
  },
  {
   "cell_type": "code",
   "execution_count": 41,
   "metadata": {
    "scrolled": true
   },
   "outputs": [
    {
     "data": {
      "text/plain": [
       "0.0    11746\n",
       "1.0     2835\n",
       "Name: Boite à vitesse, dtype: int64"
      ]
     },
     "execution_count": 41,
     "metadata": {},
     "output_type": "execute_result"
    }
   ],
   "source": [
    "df[\"Boite à vitesse\"].value_counts() "
   ]
  },
  {
   "cell_type": "code",
   "execution_count": 42,
   "metadata": {},
   "outputs": [],
   "source": [
    "df['Boite à vitesse']=df['Boite à vitesse'].replace(np.nan,0)"
   ]
  },
  {
   "cell_type": "code",
   "execution_count": 43,
   "metadata": {
    "scrolled": true
   },
   "outputs": [
    {
     "data": {
      "text/plain": [
       "0"
      ]
     },
     "execution_count": 43,
     "metadata": {},
     "output_type": "execute_result"
    }
   ],
   "source": [
    "df['Boite à vitesse'].isnull().sum()"
   ]
  },
  {
   "cell_type": "markdown",
   "metadata": {},
   "source": [
    "********************* ********************* ********************* ********************* ********************* *****************"
   ]
  },
  {
   "cell_type": "markdown",
   "metadata": {},
   "source": [
    "#### Origine"
   ]
  },
  {
   "cell_type": "code",
   "execution_count": 44,
   "metadata": {
    "scrolled": true
   },
   "outputs": [
    {
     "data": {
      "text/plain": [
       "4328"
      ]
     },
     "execution_count": 44,
     "metadata": {},
     "output_type": "execute_result"
    }
   ],
   "source": [
    "df['Origine'].isnull().sum()"
   ]
  },
  {
   "cell_type": "code",
   "execution_count": 45,
   "metadata": {
    "scrolled": true
   },
   "outputs": [
    {
     "data": {
      "text/plain": [
       "WW au Maroc             9889\n",
       "Dédouanée               2502\n",
       "Importée neuve           582\n",
       "Pas encore dédouanée      82\n",
       "Name: Origine, dtype: int64"
      ]
     },
     "execution_count": 45,
     "metadata": {},
     "output_type": "execute_result"
    }
   ],
   "source": [
    "df['Origine'].value_counts()"
   ]
  },
  {
   "cell_type": "code",
   "execution_count": 46,
   "metadata": {},
   "outputs": [],
   "source": [
    "df['Origine']=df['Origine'].replace(np.nan,'WW au Maroc')"
   ]
  },
  {
   "cell_type": "markdown",
   "metadata": {},
   "source": [
    "********************* ********************* ********************* ********************* ********************* *****************"
   ]
  },
  {
   "cell_type": "code",
   "execution_count": 47,
   "metadata": {},
   "outputs": [
    {
     "data": {
      "text/plain": [
       "3832"
      ]
     },
     "execution_count": 47,
     "metadata": {},
     "output_type": "execute_result"
    }
   ],
   "source": [
    "df['Nombre de portes'].isnull().sum()"
   ]
  },
  {
   "cell_type": "code",
   "execution_count": 48,
   "metadata": {},
   "outputs": [
    {
     "data": {
      "text/plain": [
       "5.0    12729\n",
       "3.0      822\n",
       "Name: Nombre de portes, dtype: int64"
      ]
     },
     "execution_count": 48,
     "metadata": {},
     "output_type": "execute_result"
    }
   ],
   "source": [
    "df['Nombre de portes'].value_counts()"
   ]
  },
  {
   "cell_type": "code",
   "execution_count": 49,
   "metadata": {},
   "outputs": [],
   "source": [
    "df['Nombre de portes']=df['Nombre de portes'].fillna(5)"
   ]
  },
  {
   "cell_type": "code",
   "execution_count": 50,
   "metadata": {},
   "outputs": [
    {
     "data": {
      "text/plain": [
       "5.0    16561\n",
       "3.0      822\n",
       "Name: Nombre de portes, dtype: int64"
      ]
     },
     "execution_count": 50,
     "metadata": {},
     "output_type": "execute_result"
    }
   ],
   "source": [
    "df['Nombre de portes'].value_counts()"
   ]
  },
  {
   "cell_type": "markdown",
   "metadata": {},
   "source": [
    "********************* ********************* ********************* ********************* ********************* *****************"
   ]
  },
  {
   "cell_type": "code",
   "execution_count": 51,
   "metadata": {},
   "outputs": [
    {
     "data": {
      "text/html": [
       "<div>\n",
       "<style scoped>\n",
       "    .dataframe tbody tr th:only-of-type {\n",
       "        vertical-align: middle;\n",
       "    }\n",
       "\n",
       "    .dataframe tbody tr th {\n",
       "        vertical-align: top;\n",
       "    }\n",
       "\n",
       "    .dataframe thead th {\n",
       "        text-align: right;\n",
       "    }\n",
       "</style>\n",
       "<table border=\"1\" class=\"dataframe\">\n",
       "  <thead>\n",
       "    <tr style=\"text-align: right;\">\n",
       "      <th></th>\n",
       "      <th>Kilométrage</th>\n",
       "      <th>Année-Modèle</th>\n",
       "      <th>Marque</th>\n",
       "      <th>Modèle</th>\n",
       "      <th>Nombre de portes</th>\n",
       "      <th>Origine</th>\n",
       "      <th>Secteur</th>\n",
       "      <th>Première main</th>\n",
       "      <th>equipement</th>\n",
       "      <th>price</th>\n",
       "      <th>Type de carburant</th>\n",
       "      <th>Puissance fiscale</th>\n",
       "      <th>Boite à vitesse</th>\n",
       "      <th>score</th>\n",
       "    </tr>\n",
       "  </thead>\n",
       "  <tbody>\n",
       "    <tr>\n",
       "      <th>0</th>\n",
       "      <td>62499.0</td>\n",
       "      <td>2016.0</td>\n",
       "      <td>Ford</td>\n",
       "      <td>Fiesta</td>\n",
       "      <td>5.0</td>\n",
       "      <td>WW au Maroc</td>\n",
       "      <td>Hay Mohammadi</td>\n",
       "      <td>NaN</td>\n",
       "      <td>['Airbags', 'Climatisation', 'Radar de recul',...</td>\n",
       "      <td>108000.0</td>\n",
       "      <td>Diesel</td>\n",
       "      <td>6.0</td>\n",
       "      <td>0.0</td>\n",
       "      <td>15.0</td>\n",
       "    </tr>\n",
       "    <tr>\n",
       "      <th>1</th>\n",
       "      <td>2499.0</td>\n",
       "      <td>2004.0</td>\n",
       "      <td>Citroen</td>\n",
       "      <td>Berlingo</td>\n",
       "      <td>5.0</td>\n",
       "      <td>WW au Maroc</td>\n",
       "      <td>Sidi Othmane</td>\n",
       "      <td>Non</td>\n",
       "      <td>['Airbags', 'Vitres électriques', 'CD/MP3/Blue...</td>\n",
       "      <td>45000.0</td>\n",
       "      <td>Diesel</td>\n",
       "      <td>7.0</td>\n",
       "      <td>0.0</td>\n",
       "      <td>5.0</td>\n",
       "    </tr>\n",
       "    <tr>\n",
       "      <th>2</th>\n",
       "      <td>274999.0</td>\n",
       "      <td>2009.0</td>\n",
       "      <td>Autres</td>\n",
       "      <td>Autres</td>\n",
       "      <td>5.0</td>\n",
       "      <td>WW au Maroc</td>\n",
       "      <td>NaN</td>\n",
       "      <td>Oui</td>\n",
       "      <td>NaN</td>\n",
       "      <td>100000.0</td>\n",
       "      <td>Diesel</td>\n",
       "      <td>10.0</td>\n",
       "      <td>0.0</td>\n",
       "      <td>NaN</td>\n",
       "    </tr>\n",
       "  </tbody>\n",
       "</table>\n",
       "</div>"
      ],
      "text/plain": [
       "   Kilométrage  Année-Modèle   Marque    Modèle  Nombre de portes  \\\n",
       "0      62499.0        2016.0     Ford    Fiesta               5.0   \n",
       "1       2499.0        2004.0  Citroen  Berlingo               5.0   \n",
       "2     274999.0        2009.0   Autres    Autres               5.0   \n",
       "\n",
       "       Origine        Secteur Première main  \\\n",
       "0  WW au Maroc  Hay Mohammadi           NaN   \n",
       "1  WW au Maroc   Sidi Othmane           Non   \n",
       "2  WW au Maroc            NaN           Oui   \n",
       "\n",
       "                                          equipement     price  \\\n",
       "0  ['Airbags', 'Climatisation', 'Radar de recul',...  108000.0   \n",
       "1  ['Airbags', 'Vitres électriques', 'CD/MP3/Blue...   45000.0   \n",
       "2                                                NaN  100000.0   \n",
       "\n",
       "  Type de carburant  Puissance fiscale  Boite à vitesse  score  \n",
       "0            Diesel                6.0              0.0   15.0  \n",
       "1            Diesel                7.0              0.0    5.0  \n",
       "2            Diesel               10.0              0.0    NaN  "
      ]
     },
     "execution_count": 51,
     "metadata": {},
     "output_type": "execute_result"
    }
   ],
   "source": [
    "df.head(3)"
   ]
  },
  {
   "cell_type": "code",
   "execution_count": 52,
   "metadata": {},
   "outputs": [
    {
     "data": {
      "text/html": [
       "<div>\n",
       "<style scoped>\n",
       "    .dataframe tbody tr th:only-of-type {\n",
       "        vertical-align: middle;\n",
       "    }\n",
       "\n",
       "    .dataframe tbody tr th {\n",
       "        vertical-align: top;\n",
       "    }\n",
       "\n",
       "    .dataframe thead th {\n",
       "        text-align: right;\n",
       "    }\n",
       "</style>\n",
       "<table border=\"1\" class=\"dataframe\">\n",
       "  <thead>\n",
       "    <tr style=\"text-align: right;\">\n",
       "      <th></th>\n",
       "      <th>Kilométrage</th>\n",
       "      <th>Année-Modèle</th>\n",
       "      <th>Nombre de portes</th>\n",
       "      <th>price</th>\n",
       "      <th>Puissance fiscale</th>\n",
       "      <th>Boite à vitesse</th>\n",
       "      <th>score</th>\n",
       "    </tr>\n",
       "  </thead>\n",
       "  <tbody>\n",
       "    <tr>\n",
       "      <th>count</th>\n",
       "      <td>17383.000000</td>\n",
       "      <td>17383.000000</td>\n",
       "      <td>17383.000000</td>\n",
       "      <td>1.437500e+04</td>\n",
       "      <td>17383.000000</td>\n",
       "      <td>17383.000000</td>\n",
       "      <td>10101.000000</td>\n",
       "    </tr>\n",
       "    <tr>\n",
       "      <th>mean</th>\n",
       "      <td>125757.941207</td>\n",
       "      <td>2007.845769</td>\n",
       "      <td>4.905425</td>\n",
       "      <td>1.468967e+05</td>\n",
       "      <td>7.405047</td>\n",
       "      <td>0.163090</td>\n",
       "      <td>12.469854</td>\n",
       "    </tr>\n",
       "    <tr>\n",
       "      <th>std</th>\n",
       "      <td>97843.987817</td>\n",
       "      <td>8.603781</td>\n",
       "      <td>0.424519</td>\n",
       "      <td>5.912260e+06</td>\n",
       "      <td>2.271964</td>\n",
       "      <td>0.369459</td>\n",
       "      <td>7.420603</td>\n",
       "    </tr>\n",
       "    <tr>\n",
       "      <th>min</th>\n",
       "      <td>2499.000000</td>\n",
       "      <td>1980.000000</td>\n",
       "      <td>3.000000</td>\n",
       "      <td>1.500000e+02</td>\n",
       "      <td>4.000000</td>\n",
       "      <td>0.000000</td>\n",
       "      <td>1.000000</td>\n",
       "    </tr>\n",
       "    <tr>\n",
       "      <th>25%</th>\n",
       "      <td>47499.000000</td>\n",
       "      <td>2004.000000</td>\n",
       "      <td>5.000000</td>\n",
       "      <td>4.800000e+04</td>\n",
       "      <td>6.000000</td>\n",
       "      <td>0.000000</td>\n",
       "      <td>6.000000</td>\n",
       "    </tr>\n",
       "    <tr>\n",
       "      <th>50%</th>\n",
       "      <td>114999.000000</td>\n",
       "      <td>2010.000000</td>\n",
       "      <td>5.000000</td>\n",
       "      <td>7.500000e+04</td>\n",
       "      <td>7.000000</td>\n",
       "      <td>0.000000</td>\n",
       "      <td>12.000000</td>\n",
       "    </tr>\n",
       "    <tr>\n",
       "      <th>75%</th>\n",
       "      <td>184999.000000</td>\n",
       "      <td>2015.000000</td>\n",
       "      <td>5.000000</td>\n",
       "      <td>1.150000e+05</td>\n",
       "      <td>8.000000</td>\n",
       "      <td>0.000000</td>\n",
       "      <td>19.000000</td>\n",
       "    </tr>\n",
       "    <tr>\n",
       "      <th>max</th>\n",
       "      <td>500000.000000</td>\n",
       "      <td>2020.000000</td>\n",
       "      <td>5.000000</td>\n",
       "      <td>7.086251e+08</td>\n",
       "      <td>41.000000</td>\n",
       "      <td>1.000000</td>\n",
       "      <td>25.000000</td>\n",
       "    </tr>\n",
       "  </tbody>\n",
       "</table>\n",
       "</div>"
      ],
      "text/plain": [
       "         Kilométrage  Année-Modèle  Nombre de portes         price  \\\n",
       "count   17383.000000  17383.000000      17383.000000  1.437500e+04   \n",
       "mean   125757.941207   2007.845769          4.905425  1.468967e+05   \n",
       "std     97843.987817      8.603781          0.424519  5.912260e+06   \n",
       "min      2499.000000   1980.000000          3.000000  1.500000e+02   \n",
       "25%     47499.000000   2004.000000          5.000000  4.800000e+04   \n",
       "50%    114999.000000   2010.000000          5.000000  7.500000e+04   \n",
       "75%    184999.000000   2015.000000          5.000000  1.150000e+05   \n",
       "max    500000.000000   2020.000000          5.000000  7.086251e+08   \n",
       "\n",
       "       Puissance fiscale  Boite à vitesse         score  \n",
       "count       17383.000000     17383.000000  10101.000000  \n",
       "mean            7.405047         0.163090     12.469854  \n",
       "std             2.271964         0.369459      7.420603  \n",
       "min             4.000000         0.000000      1.000000  \n",
       "25%             6.000000         0.000000      6.000000  \n",
       "50%             7.000000         0.000000     12.000000  \n",
       "75%             8.000000         0.000000     19.000000  \n",
       "max            41.000000         1.000000     25.000000  "
      ]
     },
     "execution_count": 52,
     "metadata": {},
     "output_type": "execute_result"
    }
   ],
   "source": [
    "df.describe()"
   ]
  },
  {
   "cell_type": "markdown",
   "metadata": {},
   "source": [
    "********************* ********************* ********************* ********************* ********************* *****************"
   ]
  },
  {
   "cell_type": "markdown",
   "metadata": {},
   "source": [
    "### Removing Outliers / Exploring features correlation"
   ]
  },
  {
   "cell_type": "code",
   "execution_count": 53,
   "metadata": {},
   "outputs": [
    {
     "data": {
      "text/plain": [
       "<AxesSubplot:xlabel='score', ylabel='price'>"
      ]
     },
     "execution_count": 53,
     "metadata": {},
     "output_type": "execute_result"
    },
    {
     "data": {
      "image/png": "[encoded data removed]",
      "text/plain": [
       "<Figure size 432x288 with 1 Axes>"
      ]
     },
     "metadata": {
      "needs_background": "light"
     },
     "output_type": "display_data"
    }
   ],
   "source": [
    "sns.scatterplot(x='score',y='price',data=df)"
   ]
  },
  {
   "cell_type": "code",
   "execution_count": 54,
   "metadata": {},
   "outputs": [
    {
     "data": {
      "text/plain": [
       "0.020392573221358495"
      ]
     },
     "execution_count": 54,
     "metadata": {},
     "output_type": "execute_result"
    }
   ],
   "source": [
    "df['price'].corr(df['score'])"
   ]
  },
  {
   "cell_type": "code",
   "execution_count": 55,
   "metadata": {},
   "outputs": [
    {
     "data": {
      "text/plain": [
       "460000.0"
      ]
     },
     "execution_count": 55,
     "metadata": {},
     "output_type": "execute_result"
    }
   ],
   "source": [
    "max_tresh=df['price'].quantile(0.99)\n",
    "max_tresh"
   ]
  },
  {
   "cell_type": "code",
   "execution_count": 56,
   "metadata": {},
   "outputs": [
    {
     "data": {
      "text/plain": [
       "14870.000000000004"
      ]
     },
     "execution_count": 56,
     "metadata": {},
     "output_type": "execute_result"
    }
   ],
   "source": [
    "min_tresh=df['price'].quantile(0.01)\n",
    "min_tresh"
   ]
  },
  {
   "cell_type": "code",
   "execution_count": 57,
   "metadata": {},
   "outputs": [
    {
     "data": {
      "text/plain": [
       "17383"
      ]
     },
     "execution_count": 57,
     "metadata": {},
     "output_type": "execute_result"
    }
   ],
   "source": [
    "len(df)"
   ]
  },
  {
   "cell_type": "code",
   "execution_count": 58,
   "metadata": {},
   "outputs": [],
   "source": [
    "dft=df[(df.price < max_tresh)]"
   ]
  },
  {
   "cell_type": "code",
   "execution_count": 59,
   "metadata": {},
   "outputs": [
    {
     "data": {
      "text/plain": [
       "<AxesSubplot:xlabel='score', ylabel='price'>"
      ]
     },
     "execution_count": 59,
     "metadata": {},
     "output_type": "execute_result"
    },
    {
     "data": {
      "image/png": "[encoded data removed]",
      "text/plain": [
       "<Figure size 432x288 with 1 Axes>"
      ]
     },
     "metadata": {
      "needs_background": "light"
     },
     "output_type": "display_data"
    }
   ],
   "source": [
    "sns.scatterplot(x='score',y='price',data=dft)"
   ]
  },
  {
   "cell_type": "code",
   "execution_count": 60,
   "metadata": {},
   "outputs": [
    {
     "data": {
      "text/plain": [
       "0.6282729903141537"
      ]
     },
     "execution_count": 60,
     "metadata": {},
     "output_type": "execute_result"
    }
   ],
   "source": [
    "dft['price'].corr(dft['score'])"
   ]
  },
  {
   "cell_type": "code",
   "execution_count": 61,
   "metadata": {},
   "outputs": [
    {
     "data": {
      "text/plain": [
       "14227"
      ]
     },
     "execution_count": 61,
     "metadata": {},
     "output_type": "execute_result"
    }
   ],
   "source": [
    "len(dft)"
   ]
  },
  {
   "cell_type": "code",
   "execution_count": 62,
   "metadata": {},
   "outputs": [
    {
     "data": {
      "text/plain": [
       "<AxesSubplot:xlabel='price', ylabel='Density'>"
      ]
     },
     "execution_count": 62,
     "metadata": {},
     "output_type": "execute_result"
    },
    {
     "data": {
      "image/png": "[encoded data removed]",
      "text/plain": [
       "<Figure size 432x288 with 1 Axes>"
      ]
     },
     "metadata": {
      "needs_background": "light"
     },
     "output_type": "display_data"
    }
   ],
   "source": [
    "sns.distplot(df['price'])"
   ]
  },
  {
   "cell_type": "code",
   "execution_count": 63,
   "metadata": {
    "scrolled": true
   },
   "outputs": [
    {
     "data": {
      "text/plain": [
       "<AxesSubplot:xlabel='price', ylabel='Density'>"
      ]
     },
     "execution_count": 63,
     "metadata": {},
     "output_type": "execute_result"
    },
    {
     "data": {
      "image/png": "[encoded data removed]",
      "text/plain": [
       "<Figure size 432x288 with 1 Axes>"
      ]
     },
     "metadata": {
      "needs_background": "light"
     },
     "output_type": "display_data"
    }
   ],
   "source": [
    "sns.distplot(dft['price'])"
   ]
  },
  {
   "cell_type": "markdown",
   "metadata": {},
   "source": [
    "********************* ********************* ********************* ********************* ********************* *****************"
   ]
  },
  {
   "cell_type": "code",
   "execution_count": 64,
   "metadata": {},
   "outputs": [
    {
     "data": {
      "text/plain": [
       "<AxesSubplot:xlabel='Kilométrage', ylabel='price'>"
      ]
     },
     "execution_count": 64,
     "metadata": {},
     "output_type": "execute_result"
    },
    {
     "data": {
      "image/png": "[encoded data removed]",
      "text/plain": [
       "<Figure size 432x288 with 1 Axes>"
      ]
     },
     "metadata": {
      "needs_background": "light"
     },
     "output_type": "display_data"
    }
   ],
   "source": [
    "sns.scatterplot(x='Kilométrage',y='price',data=dft)"
   ]
  },
  {
   "cell_type": "markdown",
   "metadata": {},
   "source": [
    "********************* ********************* ********************* ********************* ********************* *****************"
   ]
  },
  {
   "cell_type": "code",
   "execution_count": 65,
   "metadata": {},
   "outputs": [
    {
     "data": {
      "text/plain": [
       "<AxesSubplot:xlabel='Année-Modèle', ylabel='price'>"
      ]
     },
     "execution_count": 65,
     "metadata": {},
     "output_type": "execute_result"
    },
    {
     "data": {
      "image/png": "[encoded data removed]",
      "text/plain": [
       "<Figure size 432x288 with 1 Axes>"
      ]
     },
     "metadata": {
      "needs_background": "light"
     },
     "output_type": "display_data"
    }
   ],
   "source": [
    "sns.scatterplot(x='Année-Modèle',y='price',data=dft)"
   ]
  },
  {
   "cell_type": "markdown",
   "metadata": {},
   "source": [
    "********************* ********************* ********************* ********************* ********************* *****************"
   ]
  },
  {
   "cell_type": "markdown",
   "metadata": {},
   "source": [
    "## One Hot encoding"
   ]
  },
  {
   "cell_type": "markdown",
   "metadata": {},
   "source": [
    "#### Type de carburant"
   ]
  },
  {
   "cell_type": "code",
   "execution_count": 66,
   "metadata": {},
   "outputs": [
    {
     "data": {
      "text/plain": [
       "array(['Diesel', 'Essence', 'Hybride', 'Electrique', 'LPG'], dtype=object)"
      ]
     },
     "execution_count": 66,
     "metadata": {},
     "output_type": "execute_result"
    }
   ],
   "source": [
    "dft['Type de carburant'].unique()"
   ]
  },
  {
   "cell_type": "code",
   "execution_count": 67,
   "metadata": {},
   "outputs": [
    {
     "data": {
      "text/html": [
       "<div>\n",
       "<style scoped>\n",
       "    .dataframe tbody tr th:only-of-type {\n",
       "        vertical-align: middle;\n",
       "    }\n",
       "\n",
       "    .dataframe tbody tr th {\n",
       "        vertical-align: top;\n",
       "    }\n",
       "\n",
       "    .dataframe thead th {\n",
       "        text-align: right;\n",
       "    }\n",
       "</style>\n",
       "<table border=\"1\" class=\"dataframe\">\n",
       "  <thead>\n",
       "    <tr style=\"text-align: right;\">\n",
       "      <th></th>\n",
       "      <th>Kilométrage</th>\n",
       "      <th>Année-Modèle</th>\n",
       "      <th>Marque</th>\n",
       "      <th>Modèle</th>\n",
       "      <th>Nombre de portes</th>\n",
       "      <th>Origine</th>\n",
       "      <th>Secteur</th>\n",
       "      <th>Première main</th>\n",
       "      <th>equipement</th>\n",
       "      <th>price</th>\n",
       "      <th>Type de carburant</th>\n",
       "      <th>Puissance fiscale</th>\n",
       "      <th>Boite à vitesse</th>\n",
       "      <th>score</th>\n",
       "      <th>carburant_Diesel</th>\n",
       "      <th>carburant_Electrique</th>\n",
       "      <th>carburant_Essence</th>\n",
       "      <th>carburant_Hybride</th>\n",
       "      <th>carburant_LPG</th>\n",
       "    </tr>\n",
       "  </thead>\n",
       "  <tbody>\n",
       "    <tr>\n",
       "      <th>0</th>\n",
       "      <td>62499.0</td>\n",
       "      <td>2016.0</td>\n",
       "      <td>Ford</td>\n",
       "      <td>Fiesta</td>\n",
       "      <td>5.0</td>\n",
       "      <td>WW au Maroc</td>\n",
       "      <td>Hay Mohammadi</td>\n",
       "      <td>NaN</td>\n",
       "      <td>['Airbags', 'Climatisation', 'Radar de recul',...</td>\n",
       "      <td>108000.0</td>\n",
       "      <td>Diesel</td>\n",
       "      <td>6.0</td>\n",
       "      <td>0.0</td>\n",
       "      <td>15.0</td>\n",
       "      <td>1</td>\n",
       "      <td>0</td>\n",
       "      <td>0</td>\n",
       "      <td>0</td>\n",
       "      <td>0</td>\n",
       "    </tr>\n",
       "    <tr>\n",
       "      <th>1</th>\n",
       "      <td>2499.0</td>\n",
       "      <td>2004.0</td>\n",
       "      <td>Citroen</td>\n",
       "      <td>Berlingo</td>\n",
       "      <td>5.0</td>\n",
       "      <td>WW au Maroc</td>\n",
       "      <td>Sidi Othmane</td>\n",
       "      <td>Non</td>\n",
       "      <td>['Airbags', 'Vitres électriques', 'CD/MP3/Blue...</td>\n",
       "      <td>45000.0</td>\n",
       "      <td>Diesel</td>\n",
       "      <td>7.0</td>\n",
       "      <td>0.0</td>\n",
       "      <td>5.0</td>\n",
       "      <td>1</td>\n",
       "      <td>0</td>\n",
       "      <td>0</td>\n",
       "      <td>0</td>\n",
       "      <td>0</td>\n",
       "    </tr>\n",
       "    <tr>\n",
       "      <th>2</th>\n",
       "      <td>274999.0</td>\n",
       "      <td>2009.0</td>\n",
       "      <td>Autres</td>\n",
       "      <td>Autres</td>\n",
       "      <td>5.0</td>\n",
       "      <td>WW au Maroc</td>\n",
       "      <td>NaN</td>\n",
       "      <td>Oui</td>\n",
       "      <td>NaN</td>\n",
       "      <td>100000.0</td>\n",
       "      <td>Diesel</td>\n",
       "      <td>10.0</td>\n",
       "      <td>0.0</td>\n",
       "      <td>NaN</td>\n",
       "      <td>1</td>\n",
       "      <td>0</td>\n",
       "      <td>0</td>\n",
       "      <td>0</td>\n",
       "      <td>0</td>\n",
       "    </tr>\n",
       "  </tbody>\n",
       "</table>\n",
       "</div>"
      ],
      "text/plain": [
       "   Kilométrage  Année-Modèle   Marque    Modèle  Nombre de portes  \\\n",
       "0      62499.0        2016.0     Ford    Fiesta               5.0   \n",
       "1       2499.0        2004.0  Citroen  Berlingo               5.0   \n",
       "2     274999.0        2009.0   Autres    Autres               5.0   \n",
       "\n",
       "       Origine        Secteur Première main  \\\n",
       "0  WW au Maroc  Hay Mohammadi           NaN   \n",
       "1  WW au Maroc   Sidi Othmane           Non   \n",
       "2  WW au Maroc            NaN           Oui   \n",
       "\n",
       "                                          equipement     price  \\\n",
       "0  ['Airbags', 'Climatisation', 'Radar de recul',...  108000.0   \n",
       "1  ['Airbags', 'Vitres électriques', 'CD/MP3/Blue...   45000.0   \n",
       "2                                                NaN  100000.0   \n",
       "\n",
       "  Type de carburant  Puissance fiscale  Boite à vitesse  score  \\\n",
       "0            Diesel                6.0              0.0   15.0   \n",
       "1            Diesel                7.0              0.0    5.0   \n",
       "2            Diesel               10.0              0.0    NaN   \n",
       "\n",
       "   carburant_Diesel  carburant_Electrique  carburant_Essence  \\\n",
       "0                 1                     0                  0   \n",
       "1                 1                     0                  0   \n",
       "2                 1                     0                  0   \n",
       "\n",
       "   carburant_Hybride  carburant_LPG  \n",
       "0                  0              0  \n",
       "1                  0              0  \n",
       "2                  0              0  "
      ]
     },
     "execution_count": 67,
     "metadata": {},
     "output_type": "execute_result"
    }
   ],
   "source": [
    "df2 = pd.get_dummies(dft['Type de carburant'], prefix = 'carburant')\n",
    "dft = pd.concat([dft,df2], axis=1)\n",
    "dft.head(3)"
   ]
  },
  {
   "cell_type": "code",
   "execution_count": 68,
   "metadata": {},
   "outputs": [
    {
     "data": {
      "text/plain": [
       "0    14226\n",
       "1        1\n",
       "Name: carburant_LPG, dtype: int64"
      ]
     },
     "execution_count": 68,
     "metadata": {},
     "output_type": "execute_result"
    }
   ],
   "source": [
    "dft['carburant_LPG'].value_counts()"
   ]
  },
  {
   "cell_type": "code",
   "execution_count": 69,
   "metadata": {},
   "outputs": [],
   "source": [
    "del(dft['carburant_LPG'])\n",
    "del(dft['Type de carburant'])"
   ]
  },
  {
   "cell_type": "markdown",
   "metadata": {},
   "source": [
    "********************* ********************* ********************* ********************* ********************* *****************"
   ]
  },
  {
   "cell_type": "code",
   "execution_count": 70,
   "metadata": {},
   "outputs": [
    {
     "data": {
      "text/html": [
       "<div>\n",
       "<style scoped>\n",
       "    .dataframe tbody tr th:only-of-type {\n",
       "        vertical-align: middle;\n",
       "    }\n",
       "\n",
       "    .dataframe tbody tr th {\n",
       "        vertical-align: top;\n",
       "    }\n",
       "\n",
       "    .dataframe thead th {\n",
       "        text-align: right;\n",
       "    }\n",
       "</style>\n",
       "<table border=\"1\" class=\"dataframe\">\n",
       "  <thead>\n",
       "    <tr style=\"text-align: right;\">\n",
       "      <th></th>\n",
       "      <th>Kilométrage</th>\n",
       "      <th>Année-Modèle</th>\n",
       "      <th>Marque</th>\n",
       "      <th>Modèle</th>\n",
       "      <th>Nombre de portes</th>\n",
       "      <th>Origine</th>\n",
       "      <th>Secteur</th>\n",
       "      <th>Première main</th>\n",
       "      <th>equipement</th>\n",
       "      <th>price</th>\n",
       "      <th>Puissance fiscale</th>\n",
       "      <th>Boite à vitesse</th>\n",
       "      <th>score</th>\n",
       "      <th>carburant_Diesel</th>\n",
       "      <th>carburant_Electrique</th>\n",
       "      <th>carburant_Essence</th>\n",
       "      <th>carburant_Hybride</th>\n",
       "    </tr>\n",
       "  </thead>\n",
       "  <tbody>\n",
       "    <tr>\n",
       "      <th>0</th>\n",
       "      <td>62499.0</td>\n",
       "      <td>2016.0</td>\n",
       "      <td>Ford</td>\n",
       "      <td>Fiesta</td>\n",
       "      <td>5.0</td>\n",
       "      <td>WW au Maroc</td>\n",
       "      <td>Hay Mohammadi</td>\n",
       "      <td>NaN</td>\n",
       "      <td>['Airbags', 'Climatisation', 'Radar de recul',...</td>\n",
       "      <td>108000.0</td>\n",
       "      <td>6.0</td>\n",
       "      <td>0.0</td>\n",
       "      <td>15.0</td>\n",
       "      <td>1</td>\n",
       "      <td>0</td>\n",
       "      <td>0</td>\n",
       "      <td>0</td>\n",
       "    </tr>\n",
       "    <tr>\n",
       "      <th>1</th>\n",
       "      <td>2499.0</td>\n",
       "      <td>2004.0</td>\n",
       "      <td>Citroen</td>\n",
       "      <td>Berlingo</td>\n",
       "      <td>5.0</td>\n",
       "      <td>WW au Maroc</td>\n",
       "      <td>Sidi Othmane</td>\n",
       "      <td>Non</td>\n",
       "      <td>['Airbags', 'Vitres électriques', 'CD/MP3/Blue...</td>\n",
       "      <td>45000.0</td>\n",
       "      <td>7.0</td>\n",
       "      <td>0.0</td>\n",
       "      <td>5.0</td>\n",
       "      <td>1</td>\n",
       "      <td>0</td>\n",
       "      <td>0</td>\n",
       "      <td>0</td>\n",
       "    </tr>\n",
       "    <tr>\n",
       "      <th>2</th>\n",
       "      <td>274999.0</td>\n",
       "      <td>2009.0</td>\n",
       "      <td>Autres</td>\n",
       "      <td>Autres</td>\n",
       "      <td>5.0</td>\n",
       "      <td>WW au Maroc</td>\n",
       "      <td>NaN</td>\n",
       "      <td>Oui</td>\n",
       "      <td>NaN</td>\n",
       "      <td>100000.0</td>\n",
       "      <td>10.0</td>\n",
       "      <td>0.0</td>\n",
       "      <td>NaN</td>\n",
       "      <td>1</td>\n",
       "      <td>0</td>\n",
       "      <td>0</td>\n",
       "      <td>0</td>\n",
       "    </tr>\n",
       "  </tbody>\n",
       "</table>\n",
       "</div>"
      ],
      "text/plain": [
       "   Kilométrage  Année-Modèle   Marque    Modèle  Nombre de portes  \\\n",
       "0      62499.0        2016.0     Ford    Fiesta               5.0   \n",
       "1       2499.0        2004.0  Citroen  Berlingo               5.0   \n",
       "2     274999.0        2009.0   Autres    Autres               5.0   \n",
       "\n",
       "       Origine        Secteur Première main  \\\n",
       "0  WW au Maroc  Hay Mohammadi           NaN   \n",
       "1  WW au Maroc   Sidi Othmane           Non   \n",
       "2  WW au Maroc            NaN           Oui   \n",
       "\n",
       "                                          equipement     price  \\\n",
       "0  ['Airbags', 'Climatisation', 'Radar de recul',...  108000.0   \n",
       "1  ['Airbags', 'Vitres électriques', 'CD/MP3/Blue...   45000.0   \n",
       "2                                                NaN  100000.0   \n",
       "\n",
       "   Puissance fiscale  Boite à vitesse  score  carburant_Diesel  \\\n",
       "0                6.0              0.0   15.0                 1   \n",
       "1                7.0              0.0    5.0                 1   \n",
       "2               10.0              0.0    NaN                 1   \n",
       "\n",
       "   carburant_Electrique  carburant_Essence  carburant_Hybride  \n",
       "0                     0                  0                  0  \n",
       "1                     0                  0                  0  \n",
       "2                     0                  0                  0  "
      ]
     },
     "execution_count": 70,
     "metadata": {},
     "output_type": "execute_result"
    }
   ],
   "source": [
    "dft.head(3)"
   ]
  },
  {
   "cell_type": "markdown",
   "metadata": {},
   "source": [
    "********************* ********************* ********************* ********************* ********************* *****************"
   ]
  },
  {
   "cell_type": "markdown",
   "metadata": {},
   "source": [
    "#### Origine"
   ]
  },
  {
   "cell_type": "code",
   "execution_count": 71,
   "metadata": {},
   "outputs": [
    {
     "data": {
      "text/plain": [
       "array(['WW au Maroc', 'Dédouanée', 'Importée neuve',\n",
       "       'Pas encore dédouanée'], dtype=object)"
      ]
     },
     "execution_count": 71,
     "metadata": {},
     "output_type": "execute_result"
    }
   ],
   "source": [
    "dft['Origine'].unique()"
   ]
  },
  {
   "cell_type": "code",
   "execution_count": 72,
   "metadata": {},
   "outputs": [],
   "source": [
    "df2 = pd.get_dummies(dft['Origine'], prefix = 'Orig')\n",
    "dft = pd.concat([dft,df2], axis=1)"
   ]
  },
  {
   "cell_type": "code",
   "execution_count": 73,
   "metadata": {},
   "outputs": [],
   "source": [
    "del(dft['Origine'])\n",
    "del(dft['Orig_Pas encore dédouanée'])"
   ]
  },
  {
   "cell_type": "code",
   "execution_count": 74,
   "metadata": {
    "scrolled": true
   },
   "outputs": [
    {
     "data": {
      "text/html": [
       "<div>\n",
       "<style scoped>\n",
       "    .dataframe tbody tr th:only-of-type {\n",
       "        vertical-align: middle;\n",
       "    }\n",
       "\n",
       "    .dataframe tbody tr th {\n",
       "        vertical-align: top;\n",
       "    }\n",
       "\n",
       "    .dataframe thead th {\n",
       "        text-align: right;\n",
       "    }\n",
       "</style>\n",
       "<table border=\"1\" class=\"dataframe\">\n",
       "  <thead>\n",
       "    <tr style=\"text-align: right;\">\n",
       "      <th></th>\n",
       "      <th>Kilométrage</th>\n",
       "      <th>Année-Modèle</th>\n",
       "      <th>Marque</th>\n",
       "      <th>Modèle</th>\n",
       "      <th>Nombre de portes</th>\n",
       "      <th>Secteur</th>\n",
       "      <th>Première main</th>\n",
       "      <th>equipement</th>\n",
       "      <th>price</th>\n",
       "      <th>Puissance fiscale</th>\n",
       "      <th>Boite à vitesse</th>\n",
       "      <th>score</th>\n",
       "      <th>carburant_Diesel</th>\n",
       "      <th>carburant_Electrique</th>\n",
       "      <th>carburant_Essence</th>\n",
       "      <th>carburant_Hybride</th>\n",
       "      <th>Orig_Dédouanée</th>\n",
       "      <th>Orig_Importée neuve</th>\n",
       "      <th>Orig_WW au Maroc</th>\n",
       "    </tr>\n",
       "  </thead>\n",
       "  <tbody>\n",
       "    <tr>\n",
       "      <th>0</th>\n",
       "      <td>62499.0</td>\n",
       "      <td>2016.0</td>\n",
       "      <td>Ford</td>\n",
       "      <td>Fiesta</td>\n",
       "      <td>5.0</td>\n",
       "      <td>Hay Mohammadi</td>\n",
       "      <td>NaN</td>\n",
       "      <td>['Airbags', 'Climatisation', 'Radar de recul',...</td>\n",
       "      <td>108000.0</td>\n",
       "      <td>6.0</td>\n",
       "      <td>0.0</td>\n",
       "      <td>15.0</td>\n",
       "      <td>1</td>\n",
       "      <td>0</td>\n",
       "      <td>0</td>\n",
       "      <td>0</td>\n",
       "      <td>0</td>\n",
       "      <td>0</td>\n",
       "      <td>1</td>\n",
       "    </tr>\n",
       "    <tr>\n",
       "      <th>1</th>\n",
       "      <td>2499.0</td>\n",
       "      <td>2004.0</td>\n",
       "      <td>Citroen</td>\n",
       "      <td>Berlingo</td>\n",
       "      <td>5.0</td>\n",
       "      <td>Sidi Othmane</td>\n",
       "      <td>Non</td>\n",
       "      <td>['Airbags', 'Vitres électriques', 'CD/MP3/Blue...</td>\n",
       "      <td>45000.0</td>\n",
       "      <td>7.0</td>\n",
       "      <td>0.0</td>\n",
       "      <td>5.0</td>\n",
       "      <td>1</td>\n",
       "      <td>0</td>\n",
       "      <td>0</td>\n",
       "      <td>0</td>\n",
       "      <td>0</td>\n",
       "      <td>0</td>\n",
       "      <td>1</td>\n",
       "    </tr>\n",
       "    <tr>\n",
       "      <th>2</th>\n",
       "      <td>274999.0</td>\n",
       "      <td>2009.0</td>\n",
       "      <td>Autres</td>\n",
       "      <td>Autres</td>\n",
       "      <td>5.0</td>\n",
       "      <td>NaN</td>\n",
       "      <td>Oui</td>\n",
       "      <td>NaN</td>\n",
       "      <td>100000.0</td>\n",
       "      <td>10.0</td>\n",
       "      <td>0.0</td>\n",
       "      <td>NaN</td>\n",
       "      <td>1</td>\n",
       "      <td>0</td>\n",
       "      <td>0</td>\n",
       "      <td>0</td>\n",
       "      <td>0</td>\n",
       "      <td>0</td>\n",
       "      <td>1</td>\n",
       "    </tr>\n",
       "  </tbody>\n",
       "</table>\n",
       "</div>"
      ],
      "text/plain": [
       "   Kilométrage  Année-Modèle   Marque    Modèle  Nombre de portes  \\\n",
       "0      62499.0        2016.0     Ford    Fiesta               5.0   \n",
       "1       2499.0        2004.0  Citroen  Berlingo               5.0   \n",
       "2     274999.0        2009.0   Autres    Autres               5.0   \n",
       "\n",
       "         Secteur Première main  \\\n",
       "0  Hay Mohammadi           NaN   \n",
       "1   Sidi Othmane           Non   \n",
       "2            NaN           Oui   \n",
       "\n",
       "                                          equipement     price  \\\n",
       "0  ['Airbags', 'Climatisation', 'Radar de recul',...  108000.0   \n",
       "1  ['Airbags', 'Vitres électriques', 'CD/MP3/Blue...   45000.0   \n",
       "2                                                NaN  100000.0   \n",
       "\n",
       "   Puissance fiscale  Boite à vitesse  score  carburant_Diesel  \\\n",
       "0                6.0              0.0   15.0                 1   \n",
       "1                7.0              0.0    5.0                 1   \n",
       "2               10.0              0.0    NaN                 1   \n",
       "\n",
       "   carburant_Electrique  carburant_Essence  carburant_Hybride  Orig_Dédouanée  \\\n",
       "0                     0                  0                  0               0   \n",
       "1                     0                  0                  0               0   \n",
       "2                     0                  0                  0               0   \n",
       "\n",
       "   Orig_Importée neuve  Orig_WW au Maroc  \n",
       "0                    0                 1  \n",
       "1                    0                 1  \n",
       "2                    0                 1  "
      ]
     },
     "execution_count": 74,
     "metadata": {},
     "output_type": "execute_result"
    }
   ],
   "source": [
    "dft.head(3)"
   ]
  },
  {
   "cell_type": "markdown",
   "metadata": {},
   "source": [
    "********************* ********************* ********************* ********************* ********************* *****************"
   ]
  },
  {
   "cell_type": "code",
   "execution_count": 75,
   "metadata": {},
   "outputs": [
    {
     "data": {
      "text/plain": [
       "Oui    642\n",
       "Non    289\n",
       "Name: Première main, dtype: int64"
      ]
     },
     "execution_count": 75,
     "metadata": {},
     "output_type": "execute_result"
    }
   ],
   "source": [
    "dft['Première main'].loc[(dft['price'] >= 175000.0)].value_counts()"
   ]
  },
  {
   "cell_type": "code",
   "execution_count": 76,
   "metadata": {},
   "outputs": [
    {
     "data": {
      "text/plain": [
       "Kilométrage                0\n",
       "Année-Modèle               0\n",
       "Marque                     0\n",
       "Modèle                     0\n",
       "Nombre de portes           0\n",
       "Secteur                 7474\n",
       "Première main           3717\n",
       "equipement              5858\n",
       "price                      0\n",
       "Puissance fiscale          0\n",
       "Boite à vitesse            0\n",
       "score                   5858\n",
       "carburant_Diesel           0\n",
       "carburant_Electrique       0\n",
       "carburant_Essence          0\n",
       "carburant_Hybride          0\n",
       "Orig_Dédouanée             0\n",
       "Orig_Importée neuve        0\n",
       "Orig_WW au Maroc           0\n",
       "dtype: int64"
      ]
     },
     "execution_count": 76,
     "metadata": {},
     "output_type": "execute_result"
    }
   ],
   "source": [
    "dft.isnull().sum()"
   ]
  },
  {
   "cell_type": "code",
   "execution_count": 78,
   "metadata": {},
   "outputs": [],
   "source": [
    "del(dft['equipement'])"
   ]
  },
  {
   "cell_type": "code",
   "execution_count": 81,
   "metadata": {},
   "outputs": [],
   "source": [
    "del(dfp['Secteur'])"
   ]
  },
  {
   "cell_type": "code",
   "execution_count": 79,
   "metadata": {},
   "outputs": [],
   "source": [
    "dfp=dft"
   ]
  },
  {
   "cell_type": "code",
   "execution_count": 83,
   "metadata": {},
   "outputs": [
    {
     "data": {
      "text/plain": [
       "Non    6486\n",
       "Oui    4024\n",
       "Name: Première main, dtype: int64"
      ]
     },
     "execution_count": 83,
     "metadata": {},
     "output_type": "execute_result"
    }
   ],
   "source": [
    "dfp['Première main'].value_counts()"
   ]
  },
  {
   "cell_type": "code",
   "execution_count": 88,
   "metadata": {},
   "outputs": [],
   "source": [
    "dfp['Première main']=dfp['Première main'].replace(\"Non\",0).replace(\"Oui\",1).replace(np.nan,0)"
   ]
  },
  {
   "cell_type": "code",
   "execution_count": 89,
   "metadata": {},
   "outputs": [
    {
     "data": {
      "text/plain": [
       "0"
      ]
     },
     "execution_count": 89,
     "metadata": {},
     "output_type": "execute_result"
    }
   ],
   "source": [
    "dfp['Première main'].isnull().sum()"
   ]
  },
  {
   "cell_type": "code",
   "execution_count": 90,
   "metadata": {},
   "outputs": [
    {
     "data": {
      "text/plain": [
       "0.0    10203\n",
       "1.0     4024\n",
       "Name: Première main, dtype: int64"
      ]
     },
     "execution_count": 90,
     "metadata": {},
     "output_type": "execute_result"
    }
   ],
   "source": [
    "dfp['Première main'].value_counts()"
   ]
  },
  {
   "cell_type": "code",
   "execution_count": 85,
   "metadata": {},
   "outputs": [
    {
     "data": {
      "text/html": [
       "<div>\n",
       "<style scoped>\n",
       "    .dataframe tbody tr th:only-of-type {\n",
       "        vertical-align: middle;\n",
       "    }\n",
       "\n",
       "    .dataframe tbody tr th {\n",
       "        vertical-align: top;\n",
       "    }\n",
       "\n",
       "    .dataframe thead th {\n",
       "        text-align: right;\n",
       "    }\n",
       "</style>\n",
       "<table border=\"1\" class=\"dataframe\">\n",
       "  <thead>\n",
       "    <tr style=\"text-align: right;\">\n",
       "      <th></th>\n",
       "      <th>Kilométrage</th>\n",
       "      <th>Année-Modèle</th>\n",
       "      <th>Nombre de portes</th>\n",
       "      <th>Première main</th>\n",
       "      <th>price</th>\n",
       "      <th>Puissance fiscale</th>\n",
       "      <th>Boite à vitesse</th>\n",
       "      <th>score</th>\n",
       "      <th>carburant_Diesel</th>\n",
       "      <th>carburant_Electrique</th>\n",
       "      <th>carburant_Essence</th>\n",
       "      <th>carburant_Hybride</th>\n",
       "      <th>Orig_Dédouanée</th>\n",
       "      <th>Orig_Importée neuve</th>\n",
       "      <th>Orig_WW au Maroc</th>\n",
       "    </tr>\n",
       "  </thead>\n",
       "  <tbody>\n",
       "    <tr>\n",
       "      <th>Kilométrage</th>\n",
       "      <td>1.000000</td>\n",
       "      <td>-0.179047</td>\n",
       "      <td>0.041761</td>\n",
       "      <td>-0.146388</td>\n",
       "      <td>-0.134186</td>\n",
       "      <td>0.100711</td>\n",
       "      <td>-0.015956</td>\n",
       "      <td>-0.056852</td>\n",
       "      <td>0.072155</td>\n",
       "      <td>-0.013571</td>\n",
       "      <td>-0.069469</td>\n",
       "      <td>-0.025138</td>\n",
       "      <td>0.077886</td>\n",
       "      <td>0.031467</td>\n",
       "      <td>-0.085640</td>\n",
       "    </tr>\n",
       "    <tr>\n",
       "      <th>Année-Modèle</th>\n",
       "      <td>-0.179047</td>\n",
       "      <td>1.000000</td>\n",
       "      <td>0.047343</td>\n",
       "      <td>0.300706</td>\n",
       "      <td>0.584844</td>\n",
       "      <td>-0.099646</td>\n",
       "      <td>0.204297</td>\n",
       "      <td>0.517102</td>\n",
       "      <td>0.183075</td>\n",
       "      <td>-0.002341</td>\n",
       "      <td>-0.185529</td>\n",
       "      <td>0.022301</td>\n",
       "      <td>-0.386220</td>\n",
       "      <td>-0.002023</td>\n",
       "      <td>0.362560</td>\n",
       "    </tr>\n",
       "    <tr>\n",
       "      <th>Nombre de portes</th>\n",
       "      <td>0.041761</td>\n",
       "      <td>0.047343</td>\n",
       "      <td>1.000000</td>\n",
       "      <td>-0.007830</td>\n",
       "      <td>0.021393</td>\n",
       "      <td>-0.034692</td>\n",
       "      <td>-0.024748</td>\n",
       "      <td>0.041567</td>\n",
       "      <td>0.099632</td>\n",
       "      <td>-0.036749</td>\n",
       "      <td>-0.098281</td>\n",
       "      <td>-0.001788</td>\n",
       "      <td>-0.065764</td>\n",
       "      <td>-0.008097</td>\n",
       "      <td>0.066106</td>\n",
       "    </tr>\n",
       "    <tr>\n",
       "      <th>Première main</th>\n",
       "      <td>-0.146388</td>\n",
       "      <td>0.300706</td>\n",
       "      <td>-0.007830</td>\n",
       "      <td>1.000000</td>\n",
       "      <td>0.262954</td>\n",
       "      <td>-0.028275</td>\n",
       "      <td>0.153941</td>\n",
       "      <td>0.250799</td>\n",
       "      <td>0.093755</td>\n",
       "      <td>-0.001223</td>\n",
       "      <td>-0.096125</td>\n",
       "      <td>0.025942</td>\n",
       "      <td>-0.054819</td>\n",
       "      <td>0.030617</td>\n",
       "      <td>0.034678</td>\n",
       "    </tr>\n",
       "    <tr>\n",
       "      <th>price</th>\n",
       "      <td>-0.134186</td>\n",
       "      <td>0.584844</td>\n",
       "      <td>0.021393</td>\n",
       "      <td>0.262954</td>\n",
       "      <td>1.000000</td>\n",
       "      <td>0.162226</td>\n",
       "      <td>0.482732</td>\n",
       "      <td>0.628273</td>\n",
       "      <td>0.281515</td>\n",
       "      <td>-0.013074</td>\n",
       "      <td>-0.285170</td>\n",
       "      <td>0.039743</td>\n",
       "      <td>-0.112535</td>\n",
       "      <td>0.072313</td>\n",
       "      <td>0.075864</td>\n",
       "    </tr>\n",
       "    <tr>\n",
       "      <th>Puissance fiscale</th>\n",
       "      <td>0.100711</td>\n",
       "      <td>-0.099646</td>\n",
       "      <td>-0.034692</td>\n",
       "      <td>-0.028275</td>\n",
       "      <td>0.162226</td>\n",
       "      <td>1.000000</td>\n",
       "      <td>0.329207</td>\n",
       "      <td>0.206634</td>\n",
       "      <td>-0.101768</td>\n",
       "      <td>0.001273</td>\n",
       "      <td>0.101953</td>\n",
       "      <td>0.000501</td>\n",
       "      <td>0.082909</td>\n",
       "      <td>0.081692</td>\n",
       "      <td>-0.121061</td>\n",
       "    </tr>\n",
       "    <tr>\n",
       "      <th>Boite à vitesse</th>\n",
       "      <td>-0.015956</td>\n",
       "      <td>0.204297</td>\n",
       "      <td>-0.024748</td>\n",
       "      <td>0.153941</td>\n",
       "      <td>0.482732</td>\n",
       "      <td>0.329207</td>\n",
       "      <td>1.000000</td>\n",
       "      <td>0.467321</td>\n",
       "      <td>0.050822</td>\n",
       "      <td>0.004481</td>\n",
       "      <td>-0.056452</td>\n",
       "      <td>0.056117</td>\n",
       "      <td>0.027062</td>\n",
       "      <td>0.091509</td>\n",
       "      <td>-0.066179</td>\n",
       "    </tr>\n",
       "    <tr>\n",
       "      <th>score</th>\n",
       "      <td>-0.056852</td>\n",
       "      <td>0.517102</td>\n",
       "      <td>0.041567</td>\n",
       "      <td>0.250799</td>\n",
       "      <td>0.628273</td>\n",
       "      <td>0.206634</td>\n",
       "      <td>0.467321</td>\n",
       "      <td>1.000000</td>\n",
       "      <td>0.199890</td>\n",
       "      <td>-0.019852</td>\n",
       "      <td>-0.201193</td>\n",
       "      <td>0.013514</td>\n",
       "      <td>-0.069321</td>\n",
       "      <td>0.089107</td>\n",
       "      <td>0.021191</td>\n",
       "    </tr>\n",
       "    <tr>\n",
       "      <th>carburant_Diesel</th>\n",
       "      <td>0.072155</td>\n",
       "      <td>0.183075</td>\n",
       "      <td>0.099632</td>\n",
       "      <td>0.093755</td>\n",
       "      <td>0.281515</td>\n",
       "      <td>-0.101768</td>\n",
       "      <td>0.050822</td>\n",
       "      <td>0.199890</td>\n",
       "      <td>1.000000</td>\n",
       "      <td>-0.032373</td>\n",
       "      <td>-0.995152</td>\n",
       "      <td>-0.068708</td>\n",
       "      <td>0.036767</td>\n",
       "      <td>0.001890</td>\n",
       "      <td>-0.033700</td>\n",
       "    </tr>\n",
       "    <tr>\n",
       "      <th>carburant_Electrique</th>\n",
       "      <td>-0.013571</td>\n",
       "      <td>-0.002341</td>\n",
       "      <td>-0.036749</td>\n",
       "      <td>-0.001223</td>\n",
       "      <td>-0.013074</td>\n",
       "      <td>0.001273</td>\n",
       "      <td>0.004481</td>\n",
       "      <td>-0.019852</td>\n",
       "      <td>-0.032373</td>\n",
       "      <td>1.000000</td>\n",
       "      <td>-0.008645</td>\n",
       "      <td>-0.000597</td>\n",
       "      <td>-0.006824</td>\n",
       "      <td>0.021844</td>\n",
       "      <td>-0.003280</td>\n",
       "    </tr>\n",
       "    <tr>\n",
       "      <th>carburant_Essence</th>\n",
       "      <td>-0.069469</td>\n",
       "      <td>-0.185529</td>\n",
       "      <td>-0.098281</td>\n",
       "      <td>-0.096125</td>\n",
       "      <td>-0.285170</td>\n",
       "      <td>0.101953</td>\n",
       "      <td>-0.056452</td>\n",
       "      <td>-0.201193</td>\n",
       "      <td>-0.995152</td>\n",
       "      <td>-0.008645</td>\n",
       "      <td>1.000000</td>\n",
       "      <td>-0.018348</td>\n",
       "      <td>-0.036738</td>\n",
       "      <td>-0.004262</td>\n",
       "      <td>0.034684</td>\n",
       "    </tr>\n",
       "    <tr>\n",
       "      <th>carburant_Hybride</th>\n",
       "      <td>-0.025138</td>\n",
       "      <td>0.022301</td>\n",
       "      <td>-0.001788</td>\n",
       "      <td>0.025942</td>\n",
       "      <td>0.039743</td>\n",
       "      <td>0.000501</td>\n",
       "      <td>0.056117</td>\n",
       "      <td>0.013514</td>\n",
       "      <td>-0.068708</td>\n",
       "      <td>-0.000597</td>\n",
       "      <td>-0.018348</td>\n",
       "      <td>1.000000</td>\n",
       "      <td>0.002509</td>\n",
       "      <td>0.017157</td>\n",
       "      <td>-0.009560</td>\n",
       "    </tr>\n",
       "    <tr>\n",
       "      <th>Orig_Dédouanée</th>\n",
       "      <td>0.077886</td>\n",
       "      <td>-0.386220</td>\n",
       "      <td>-0.065764</td>\n",
       "      <td>-0.054819</td>\n",
       "      <td>-0.112535</td>\n",
       "      <td>0.082909</td>\n",
       "      <td>0.027062</td>\n",
       "      <td>-0.069321</td>\n",
       "      <td>0.036767</td>\n",
       "      <td>-0.006824</td>\n",
       "      <td>-0.036738</td>\n",
       "      <td>0.002509</td>\n",
       "      <td>1.000000</td>\n",
       "      <td>-0.070969</td>\n",
       "      <td>-0.881720</td>\n",
       "    </tr>\n",
       "    <tr>\n",
       "      <th>Orig_Importée neuve</th>\n",
       "      <td>0.031467</td>\n",
       "      <td>-0.002023</td>\n",
       "      <td>-0.008097</td>\n",
       "      <td>0.030617</td>\n",
       "      <td>0.072313</td>\n",
       "      <td>0.081692</td>\n",
       "      <td>0.091509</td>\n",
       "      <td>0.089107</td>\n",
       "      <td>0.001890</td>\n",
       "      <td>0.021844</td>\n",
       "      <td>-0.004262</td>\n",
       "      <td>0.017157</td>\n",
       "      <td>-0.070969</td>\n",
       "      <td>1.000000</td>\n",
       "      <td>-0.377928</td>\n",
       "    </tr>\n",
       "    <tr>\n",
       "      <th>Orig_WW au Maroc</th>\n",
       "      <td>-0.085640</td>\n",
       "      <td>0.362560</td>\n",
       "      <td>0.066106</td>\n",
       "      <td>0.034678</td>\n",
       "      <td>0.075864</td>\n",
       "      <td>-0.121061</td>\n",
       "      <td>-0.066179</td>\n",
       "      <td>0.021191</td>\n",
       "      <td>-0.033700</td>\n",
       "      <td>-0.003280</td>\n",
       "      <td>0.034684</td>\n",
       "      <td>-0.009560</td>\n",
       "      <td>-0.881720</td>\n",
       "      <td>-0.377928</td>\n",
       "      <td>1.000000</td>\n",
       "    </tr>\n",
       "  </tbody>\n",
       "</table>\n",
       "</div>"
      ],
      "text/plain": [
       "                      Kilométrage  Année-Modèle  Nombre de portes  \\\n",
       "Kilométrage              1.000000     -0.179047          0.041761   \n",
       "Année-Modèle            -0.179047      1.000000          0.047343   \n",
       "Nombre de portes         0.041761      0.047343          1.000000   \n",
       "Première main           -0.146388      0.300706         -0.007830   \n",
       "price                   -0.134186      0.584844          0.021393   \n",
       "Puissance fiscale        0.100711     -0.099646         -0.034692   \n",
       "Boite à vitesse         -0.015956      0.204297         -0.024748   \n",
       "score                   -0.056852      0.517102          0.041567   \n",
       "carburant_Diesel         0.072155      0.183075          0.099632   \n",
       "carburant_Electrique    -0.013571     -0.002341         -0.036749   \n",
       "carburant_Essence       -0.069469     -0.185529         -0.098281   \n",
       "carburant_Hybride       -0.025138      0.022301         -0.001788   \n",
       "Orig_Dédouanée           0.077886     -0.386220         -0.065764   \n",
       "Orig_Importée neuve      0.031467     -0.002023         -0.008097   \n",
       "Orig_WW au Maroc        -0.085640      0.362560          0.066106   \n",
       "\n",
       "                      Première main     price  Puissance fiscale  \\\n",
       "Kilométrage               -0.146388 -0.134186           0.100711   \n",
       "Année-Modèle               0.300706  0.584844          -0.099646   \n",
       "Nombre de portes          -0.007830  0.021393          -0.034692   \n",
       "Première main              1.000000  0.262954          -0.028275   \n",
       "price                      0.262954  1.000000           0.162226   \n",
       "Puissance fiscale         -0.028275  0.162226           1.000000   \n",
       "Boite à vitesse            0.153941  0.482732           0.329207   \n",
       "score                      0.250799  0.628273           0.206634   \n",
       "carburant_Diesel           0.093755  0.281515          -0.101768   \n",
       "carburant_Electrique      -0.001223 -0.013074           0.001273   \n",
       "carburant_Essence         -0.096125 -0.285170           0.101953   \n",
       "carburant_Hybride          0.025942  0.039743           0.000501   \n",
       "Orig_Dédouanée            -0.054819 -0.112535           0.082909   \n",
       "Orig_Importée neuve        0.030617  0.072313           0.081692   \n",
       "Orig_WW au Maroc           0.034678  0.075864          -0.121061   \n",
       "\n",
       "                      Boite à vitesse     score  carburant_Diesel  \\\n",
       "Kilométrage                 -0.015956 -0.056852          0.072155   \n",
       "Année-Modèle                 0.204297  0.517102          0.183075   \n",
       "Nombre de portes            -0.024748  0.041567          0.099632   \n",
       "Première main                0.153941  0.250799          0.093755   \n",
       "price                        0.482732  0.628273          0.281515   \n",
       "Puissance fiscale            0.329207  0.206634         -0.101768   \n",
       "Boite à vitesse              1.000000  0.467321          0.050822   \n",
       "score                        0.467321  1.000000          0.199890   \n",
       "carburant_Diesel             0.050822  0.199890          1.000000   \n",
       "carburant_Electrique         0.004481 -0.019852         -0.032373   \n",
       "carburant_Essence           -0.056452 -0.201193         -0.995152   \n",
       "carburant_Hybride            0.056117  0.013514         -0.068708   \n",
       "Orig_Dédouanée               0.027062 -0.069321          0.036767   \n",
       "Orig_Importée neuve          0.091509  0.089107          0.001890   \n",
       "Orig_WW au Maroc            -0.066179  0.021191         -0.033700   \n",
       "\n",
       "                      carburant_Electrique  carburant_Essence  \\\n",
       "Kilométrage                      -0.013571          -0.069469   \n",
       "Année-Modèle                     -0.002341          -0.185529   \n",
       "Nombre de portes                 -0.036749          -0.098281   \n",
       "Première main                    -0.001223          -0.096125   \n",
       "price                            -0.013074          -0.285170   \n",
       "Puissance fiscale                 0.001273           0.101953   \n",
       "Boite à vitesse                   0.004481          -0.056452   \n",
       "score                            -0.019852          -0.201193   \n",
       "carburant_Diesel                 -0.032373          -0.995152   \n",
       "carburant_Electrique              1.000000          -0.008645   \n",
       "carburant_Essence                -0.008645           1.000000   \n",
       "carburant_Hybride                -0.000597          -0.018348   \n",
       "Orig_Dédouanée                   -0.006824          -0.036738   \n",
       "Orig_Importée neuve               0.021844          -0.004262   \n",
       "Orig_WW au Maroc                 -0.003280           0.034684   \n",
       "\n",
       "                      carburant_Hybride  Orig_Dédouanée  Orig_Importée neuve  \\\n",
       "Kilométrage                   -0.025138        0.077886             0.031467   \n",
       "Année-Modèle                   0.022301       -0.386220            -0.002023   \n",
       "Nombre de portes              -0.001788       -0.065764            -0.008097   \n",
       "Première main                  0.025942       -0.054819             0.030617   \n",
       "price                          0.039743       -0.112535             0.072313   \n",
       "Puissance fiscale              0.000501        0.082909             0.081692   \n",
       "Boite à vitesse                0.056117        0.027062             0.091509   \n",
       "score                          0.013514       -0.069321             0.089107   \n",
       "carburant_Diesel              -0.068708        0.036767             0.001890   \n",
       "carburant_Electrique          -0.000597       -0.006824             0.021844   \n",
       "carburant_Essence             -0.018348       -0.036738            -0.004262   \n",
       "carburant_Hybride              1.000000        0.002509             0.017157   \n",
       "Orig_Dédouanée                 0.002509        1.000000            -0.070969   \n",
       "Orig_Importée neuve            0.017157       -0.070969             1.000000   \n",
       "Orig_WW au Maroc              -0.009560       -0.881720            -0.377928   \n",
       "\n",
       "                      Orig_WW au Maroc  \n",
       "Kilométrage                  -0.085640  \n",
       "Année-Modèle                  0.362560  \n",
       "Nombre de portes              0.066106  \n",
       "Première main                 0.034678  \n",
       "price                         0.075864  \n",
       "Puissance fiscale            -0.121061  \n",
       "Boite à vitesse              -0.066179  \n",
       "score                         0.021191  \n",
       "carburant_Diesel             -0.033700  \n",
       "carburant_Electrique         -0.003280  \n",
       "carburant_Essence             0.034684  \n",
       "carburant_Hybride            -0.009560  \n",
       "Orig_Dédouanée               -0.881720  \n",
       "Orig_Importée neuve          -0.377928  \n",
       "Orig_WW au Maroc              1.000000  "
      ]
     },
     "execution_count": 85,
     "metadata": {},
     "output_type": "execute_result"
    }
   ],
   "source": [
    "dfp.corr()"
   ]
  },
  {
   "cell_type": "markdown",
   "metadata": {},
   "source": [
    "# -----------------------------------"
   ]
  },
  {
   "cell_type": "code",
   "execution_count": null,
   "metadata": {},
   "outputs": [],
   "source": [
    "mx=dfp['price'].max()\n",
    "mn=dfp['price'].min()\n",
    "save_list = open(\"voiture_models/maxprice.pickle\",\"wb\")\n",
    "pickle.dump(mx, save_list)\n",
    "save_list.close()\n",
    "\n",
    "save_list = open(\"voiture_models/minprice.pickle\",\"wb\")\n",
    "pickle.dump(mn, save_list)\n",
    "save_list.close()"
   ]
  },
  {
   "cell_type": "markdown",
   "metadata": {},
   "source": [
    "# -----------------------------------"
   ]
  },
  {
   "cell_type": "code",
   "execution_count": 92,
   "metadata": {},
   "outputs": [],
   "source": [
    "dfr=dfp"
   ]
  },
  {
   "cell_type": "code",
   "execution_count": 93,
   "metadata": {},
   "outputs": [],
   "source": [
    "dfr['score']=dfr['score'].fillna(dfr['score'].mean())"
   ]
  },
  {
   "cell_type": "code",
   "execution_count": 94,
   "metadata": {},
   "outputs": [
    {
     "name": "stdout",
     "output_type": "stream",
     "text": [
      "<class 'pandas.core.frame.DataFrame'>\n",
      "Int64Index: 14227 entries, 0 to 17429\n",
      "Data columns (total 17 columns):\n",
      " #   Column                Non-Null Count  Dtype  \n",
      "---  ------                --------------  -----  \n",
      " 0   Kilométrage           14227 non-null  float64\n",
      " 1   Année-Modèle          14227 non-null  float64\n",
      " 2   Marque                14227 non-null  object \n",
      " 3   Modèle                14227 non-null  object \n",
      " 4   Nombre de portes      14227 non-null  float64\n",
      " 5   Première main         14227 non-null  float64\n",
      " 6   price                 14227 non-null  float64\n",
      " 7   Puissance fiscale     14227 non-null  float64\n",
      " 8   Boite à vitesse       14227 non-null  float64\n",
      " 9   score                 14227 non-null  float64\n",
      " 10  carburant_Diesel      14227 non-null  uint8  \n",
      " 11  carburant_Electrique  14227 non-null  uint8  \n",
      " 12  carburant_Essence     14227 non-null  uint8  \n",
      " 13  carburant_Hybride     14227 non-null  uint8  \n",
      " 14  Orig_Dédouanée        14227 non-null  uint8  \n",
      " 15  Orig_Importée neuve   14227 non-null  uint8  \n",
      " 16  Orig_WW au Maroc      14227 non-null  uint8  \n",
      "dtypes: float64(8), object(2), uint8(7)\n",
      "memory usage: 1.3+ MB\n"
     ]
    }
   ],
   "source": [
    "dfr.info()"
   ]
  },
  {
   "cell_type": "code",
   "execution_count": 95,
   "metadata": {},
   "outputs": [
    {
     "data": {
      "text/html": [
       "<div>\n",
       "<style scoped>\n",
       "    .dataframe tbody tr th:only-of-type {\n",
       "        vertical-align: middle;\n",
       "    }\n",
       "\n",
       "    .dataframe tbody tr th {\n",
       "        vertical-align: top;\n",
       "    }\n",
       "\n",
       "    .dataframe thead th {\n",
       "        text-align: right;\n",
       "    }\n",
       "</style>\n",
       "<table border=\"1\" class=\"dataframe\">\n",
       "  <thead>\n",
       "    <tr style=\"text-align: right;\">\n",
       "      <th></th>\n",
       "      <th>Kilométrage</th>\n",
       "      <th>Année-Modèle</th>\n",
       "      <th>Marque</th>\n",
       "      <th>Modèle</th>\n",
       "      <th>Nombre de portes</th>\n",
       "      <th>Première main</th>\n",
       "      <th>price</th>\n",
       "      <th>Puissance fiscale</th>\n",
       "      <th>Boite à vitesse</th>\n",
       "      <th>score</th>\n",
       "      <th>...</th>\n",
       "      <th>mod_i 40</th>\n",
       "      <th>mod_ix 35</th>\n",
       "      <th>mod_lancer</th>\n",
       "      <th>mod_nativa</th>\n",
       "      <th>mod_one</th>\n",
       "      <th>mod_outlander</th>\n",
       "      <th>mod_pajero</th>\n",
       "      <th>mod_pajero sport</th>\n",
       "      <th>mod_pick up</th>\n",
       "      <th>mod_primera</th>\n",
       "    </tr>\n",
       "  </thead>\n",
       "  <tbody>\n",
       "    <tr>\n",
       "      <th>0</th>\n",
       "      <td>62499.0</td>\n",
       "      <td>2016.0</td>\n",
       "      <td>Ford</td>\n",
       "      <td>Fiesta</td>\n",
       "      <td>5.0</td>\n",
       "      <td>0.0</td>\n",
       "      <td>108000.0</td>\n",
       "      <td>6.0</td>\n",
       "      <td>0.0</td>\n",
       "      <td>15.000000</td>\n",
       "      <td>...</td>\n",
       "      <td>0</td>\n",
       "      <td>0</td>\n",
       "      <td>0</td>\n",
       "      <td>0</td>\n",
       "      <td>0</td>\n",
       "      <td>0</td>\n",
       "      <td>0</td>\n",
       "      <td>0</td>\n",
       "      <td>0</td>\n",
       "      <td>0</td>\n",
       "    </tr>\n",
       "    <tr>\n",
       "      <th>1</th>\n",
       "      <td>2499.0</td>\n",
       "      <td>2004.0</td>\n",
       "      <td>Citroen</td>\n",
       "      <td>Berlingo</td>\n",
       "      <td>5.0</td>\n",
       "      <td>0.0</td>\n",
       "      <td>45000.0</td>\n",
       "      <td>7.0</td>\n",
       "      <td>0.0</td>\n",
       "      <td>5.000000</td>\n",
       "      <td>...</td>\n",
       "      <td>0</td>\n",
       "      <td>0</td>\n",
       "      <td>0</td>\n",
       "      <td>0</td>\n",
       "      <td>0</td>\n",
       "      <td>0</td>\n",
       "      <td>0</td>\n",
       "      <td>0</td>\n",
       "      <td>0</td>\n",
       "      <td>0</td>\n",
       "    </tr>\n",
       "    <tr>\n",
       "      <th>2</th>\n",
       "      <td>274999.0</td>\n",
       "      <td>2009.0</td>\n",
       "      <td>Autres</td>\n",
       "      <td>Autres</td>\n",
       "      <td>5.0</td>\n",
       "      <td>1.0</td>\n",
       "      <td>100000.0</td>\n",
       "      <td>10.0</td>\n",
       "      <td>0.0</td>\n",
       "      <td>12.350938</td>\n",
       "      <td>...</td>\n",
       "      <td>0</td>\n",
       "      <td>0</td>\n",
       "      <td>0</td>\n",
       "      <td>0</td>\n",
       "      <td>0</td>\n",
       "      <td>0</td>\n",
       "      <td>0</td>\n",
       "      <td>0</td>\n",
       "      <td>0</td>\n",
       "      <td>0</td>\n",
       "    </tr>\n",
       "    <tr>\n",
       "      <th>3</th>\n",
       "      <td>114999.0</td>\n",
       "      <td>2010.0</td>\n",
       "      <td>Citroen</td>\n",
       "      <td>C4</td>\n",
       "      <td>5.0</td>\n",
       "      <td>0.0</td>\n",
       "      <td>85000.0</td>\n",
       "      <td>6.0</td>\n",
       "      <td>0.0</td>\n",
       "      <td>12.350938</td>\n",
       "      <td>...</td>\n",
       "      <td>0</td>\n",
       "      <td>0</td>\n",
       "      <td>0</td>\n",
       "      <td>0</td>\n",
       "      <td>0</td>\n",
       "      <td>0</td>\n",
       "      <td>0</td>\n",
       "      <td>0</td>\n",
       "      <td>0</td>\n",
       "      <td>0</td>\n",
       "    </tr>\n",
       "    <tr>\n",
       "      <th>4</th>\n",
       "      <td>87499.0</td>\n",
       "      <td>2011.0</td>\n",
       "      <td>Volkswagen</td>\n",
       "      <td>PASSAT CC</td>\n",
       "      <td>5.0</td>\n",
       "      <td>0.0</td>\n",
       "      <td>143000.0</td>\n",
       "      <td>8.0</td>\n",
       "      <td>0.0</td>\n",
       "      <td>22.000000</td>\n",
       "      <td>...</td>\n",
       "      <td>0</td>\n",
       "      <td>0</td>\n",
       "      <td>0</td>\n",
       "      <td>0</td>\n",
       "      <td>0</td>\n",
       "      <td>0</td>\n",
       "      <td>0</td>\n",
       "      <td>0</td>\n",
       "      <td>0</td>\n",
       "      <td>0</td>\n",
       "    </tr>\n",
       "  </tbody>\n",
       "</table>\n",
       "<p>5 rows × 610 columns</p>\n",
       "</div>"
      ],
      "text/plain": [
       "   Kilométrage  Année-Modèle      Marque     Modèle  Nombre de portes  \\\n",
       "0      62499.0        2016.0        Ford     Fiesta               5.0   \n",
       "1       2499.0        2004.0     Citroen   Berlingo               5.0   \n",
       "2     274999.0        2009.0      Autres     Autres               5.0   \n",
       "3     114999.0        2010.0     Citroen         C4               5.0   \n",
       "4      87499.0        2011.0  Volkswagen  PASSAT CC               5.0   \n",
       "\n",
       "   Première main     price  Puissance fiscale  Boite à vitesse      score  \\\n",
       "0            0.0  108000.0                6.0              0.0  15.000000   \n",
       "1            0.0   45000.0                7.0              0.0   5.000000   \n",
       "2            1.0  100000.0               10.0              0.0  12.350938   \n",
       "3            0.0   85000.0                6.0              0.0  12.350938   \n",
       "4            0.0  143000.0                8.0              0.0  22.000000   \n",
       "\n",
       "   ...  mod_i 40  mod_ix 35  mod_lancer  mod_nativa  mod_one  mod_outlander  \\\n",
       "0  ...         0          0           0           0        0              0   \n",
       "1  ...         0          0           0           0        0              0   \n",
       "2  ...         0          0           0           0        0              0   \n",
       "3  ...         0          0           0           0        0              0   \n",
       "4  ...         0          0           0           0        0              0   \n",
       "\n",
       "   mod_pajero  mod_pajero sport  mod_pick up  mod_primera  \n",
       "0           0                 0            0            0  \n",
       "1           0                 0            0            0  \n",
       "2           0                 0            0            0  \n",
       "3           0                 0            0            0  \n",
       "4           0                 0            0            0  \n",
       "\n",
       "[5 rows x 610 columns]"
      ]
     },
     "execution_count": 95,
     "metadata": {},
     "output_type": "execute_result"
    }
   ],
   "source": [
    "df2 = pd.get_dummies(dfr['Modèle'], prefix = 'mod')\n",
    "dfr = pd.concat([dfr,df2], axis=1)\n",
    "dfr.head()"
   ]
  },
  {
   "cell_type": "code",
   "execution_count": 96,
   "metadata": {},
   "outputs": [
    {
     "data": {
      "text/html": [
       "<div>\n",
       "<style scoped>\n",
       "    .dataframe tbody tr th:only-of-type {\n",
       "        vertical-align: middle;\n",
       "    }\n",
       "\n",
       "    .dataframe tbody tr th {\n",
       "        vertical-align: top;\n",
       "    }\n",
       "\n",
       "    .dataframe thead th {\n",
       "        text-align: right;\n",
       "    }\n",
       "</style>\n",
       "<table border=\"1\" class=\"dataframe\">\n",
       "  <thead>\n",
       "    <tr style=\"text-align: right;\">\n",
       "      <th></th>\n",
       "      <th>Kilométrage</th>\n",
       "      <th>Année-Modèle</th>\n",
       "      <th>Marque</th>\n",
       "      <th>Modèle</th>\n",
       "      <th>Nombre de portes</th>\n",
       "      <th>Première main</th>\n",
       "      <th>price</th>\n",
       "      <th>Puissance fiscale</th>\n",
       "      <th>Boite à vitesse</th>\n",
       "      <th>score</th>\n",
       "      <th>...</th>\n",
       "      <th>marq_Ssangyong</th>\n",
       "      <th>marq_Subaru</th>\n",
       "      <th>marq_Suzuki</th>\n",
       "      <th>marq_Toyota</th>\n",
       "      <th>marq_UFO</th>\n",
       "      <th>marq_Volkswagen</th>\n",
       "      <th>marq_Volvo</th>\n",
       "      <th>marq_Zotye</th>\n",
       "      <th>marq_lancia</th>\n",
       "      <th>marq_mini</th>\n",
       "    </tr>\n",
       "  </thead>\n",
       "  <tbody>\n",
       "    <tr>\n",
       "      <th>0</th>\n",
       "      <td>62499.0</td>\n",
       "      <td>2016.0</td>\n",
       "      <td>Ford</td>\n",
       "      <td>Fiesta</td>\n",
       "      <td>5.0</td>\n",
       "      <td>0.0</td>\n",
       "      <td>108000.0</td>\n",
       "      <td>6.0</td>\n",
       "      <td>0.0</td>\n",
       "      <td>15.000000</td>\n",
       "      <td>...</td>\n",
       "      <td>0</td>\n",
       "      <td>0</td>\n",
       "      <td>0</td>\n",
       "      <td>0</td>\n",
       "      <td>0</td>\n",
       "      <td>0</td>\n",
       "      <td>0</td>\n",
       "      <td>0</td>\n",
       "      <td>0</td>\n",
       "      <td>0</td>\n",
       "    </tr>\n",
       "    <tr>\n",
       "      <th>1</th>\n",
       "      <td>2499.0</td>\n",
       "      <td>2004.0</td>\n",
       "      <td>Citroen</td>\n",
       "      <td>Berlingo</td>\n",
       "      <td>5.0</td>\n",
       "      <td>0.0</td>\n",
       "      <td>45000.0</td>\n",
       "      <td>7.0</td>\n",
       "      <td>0.0</td>\n",
       "      <td>5.000000</td>\n",
       "      <td>...</td>\n",
       "      <td>0</td>\n",
       "      <td>0</td>\n",
       "      <td>0</td>\n",
       "      <td>0</td>\n",
       "      <td>0</td>\n",
       "      <td>0</td>\n",
       "      <td>0</td>\n",
       "      <td>0</td>\n",
       "      <td>0</td>\n",
       "      <td>0</td>\n",
       "    </tr>\n",
       "    <tr>\n",
       "      <th>2</th>\n",
       "      <td>274999.0</td>\n",
       "      <td>2009.0</td>\n",
       "      <td>Autres</td>\n",
       "      <td>Autres</td>\n",
       "      <td>5.0</td>\n",
       "      <td>1.0</td>\n",
       "      <td>100000.0</td>\n",
       "      <td>10.0</td>\n",
       "      <td>0.0</td>\n",
       "      <td>12.350938</td>\n",
       "      <td>...</td>\n",
       "      <td>0</td>\n",
       "      <td>0</td>\n",
       "      <td>0</td>\n",
       "      <td>0</td>\n",
       "      <td>0</td>\n",
       "      <td>0</td>\n",
       "      <td>0</td>\n",
       "      <td>0</td>\n",
       "      <td>0</td>\n",
       "      <td>0</td>\n",
       "    </tr>\n",
       "    <tr>\n",
       "      <th>3</th>\n",
       "      <td>114999.0</td>\n",
       "      <td>2010.0</td>\n",
       "      <td>Citroen</td>\n",
       "      <td>C4</td>\n",
       "      <td>5.0</td>\n",
       "      <td>0.0</td>\n",
       "      <td>85000.0</td>\n",
       "      <td>6.0</td>\n",
       "      <td>0.0</td>\n",
       "      <td>12.350938</td>\n",
       "      <td>...</td>\n",
       "      <td>0</td>\n",
       "      <td>0</td>\n",
       "      <td>0</td>\n",
       "      <td>0</td>\n",
       "      <td>0</td>\n",
       "      <td>0</td>\n",
       "      <td>0</td>\n",
       "      <td>0</td>\n",
       "      <td>0</td>\n",
       "      <td>0</td>\n",
       "    </tr>\n",
       "    <tr>\n",
       "      <th>4</th>\n",
       "      <td>87499.0</td>\n",
       "      <td>2011.0</td>\n",
       "      <td>Volkswagen</td>\n",
       "      <td>PASSAT CC</td>\n",
       "      <td>5.0</td>\n",
       "      <td>0.0</td>\n",
       "      <td>143000.0</td>\n",
       "      <td>8.0</td>\n",
       "      <td>0.0</td>\n",
       "      <td>22.000000</td>\n",
       "      <td>...</td>\n",
       "      <td>0</td>\n",
       "      <td>0</td>\n",
       "      <td>0</td>\n",
       "      <td>0</td>\n",
       "      <td>0</td>\n",
       "      <td>1</td>\n",
       "      <td>0</td>\n",
       "      <td>0</td>\n",
       "      <td>0</td>\n",
       "      <td>0</td>\n",
       "    </tr>\n",
       "  </tbody>\n",
       "</table>\n",
       "<p>5 rows × 665 columns</p>\n",
       "</div>"
      ],
      "text/plain": [
       "   Kilométrage  Année-Modèle      Marque     Modèle  Nombre de portes  \\\n",
       "0      62499.0        2016.0        Ford     Fiesta               5.0   \n",
       "1       2499.0        2004.0     Citroen   Berlingo               5.0   \n",
       "2     274999.0        2009.0      Autres     Autres               5.0   \n",
       "3     114999.0        2010.0     Citroen         C4               5.0   \n",
       "4      87499.0        2011.0  Volkswagen  PASSAT CC               5.0   \n",
       "\n",
       "   Première main     price  Puissance fiscale  Boite à vitesse      score  \\\n",
       "0            0.0  108000.0                6.0              0.0  15.000000   \n",
       "1            0.0   45000.0                7.0              0.0   5.000000   \n",
       "2            1.0  100000.0               10.0              0.0  12.350938   \n",
       "3            0.0   85000.0                6.0              0.0  12.350938   \n",
       "4            0.0  143000.0                8.0              0.0  22.000000   \n",
       "\n",
       "   ...  marq_Ssangyong  marq_Subaru  marq_Suzuki  marq_Toyota  marq_UFO  \\\n",
       "0  ...               0            0            0            0         0   \n",
       "1  ...               0            0            0            0         0   \n",
       "2  ...               0            0            0            0         0   \n",
       "3  ...               0            0            0            0         0   \n",
       "4  ...               0            0            0            0         0   \n",
       "\n",
       "   marq_Volkswagen  marq_Volvo  marq_Zotye  marq_lancia  marq_mini  \n",
       "0                0           0           0            0          0  \n",
       "1                0           0           0            0          0  \n",
       "2                0           0           0            0          0  \n",
       "3                0           0           0            0          0  \n",
       "4                1           0           0            0          0  \n",
       "\n",
       "[5 rows x 665 columns]"
      ]
     },
     "execution_count": 96,
     "metadata": {},
     "output_type": "execute_result"
    }
   ],
   "source": [
    "df2 = pd.get_dummies(dfr['Marque'], prefix = 'marq')\n",
    "dfr = pd.concat([dfr,df2], axis=1)\n",
    "dfr.head()"
   ]
  },
  {
   "cell_type": "code",
   "execution_count": 97,
   "metadata": {},
   "outputs": [],
   "source": [
    "del(dfr['Modèle'])\n",
    "del(dfr['Marque'])"
   ]
  },
  {
   "cell_type": "code",
   "execution_count": 98,
   "metadata": {},
   "outputs": [
    {
     "data": {
      "text/html": [
       "<div>\n",
       "<style scoped>\n",
       "    .dataframe tbody tr th:only-of-type {\n",
       "        vertical-align: middle;\n",
       "    }\n",
       "\n",
       "    .dataframe tbody tr th {\n",
       "        vertical-align: top;\n",
       "    }\n",
       "\n",
       "    .dataframe thead th {\n",
       "        text-align: right;\n",
       "    }\n",
       "</style>\n",
       "<table border=\"1\" class=\"dataframe\">\n",
       "  <thead>\n",
       "    <tr style=\"text-align: right;\">\n",
       "      <th></th>\n",
       "      <th>Kilométrage</th>\n",
       "      <th>Année-Modèle</th>\n",
       "      <th>Nombre de portes</th>\n",
       "      <th>Première main</th>\n",
       "      <th>price</th>\n",
       "      <th>Puissance fiscale</th>\n",
       "      <th>Boite à vitesse</th>\n",
       "      <th>score</th>\n",
       "      <th>carburant_Diesel</th>\n",
       "      <th>carburant_Electrique</th>\n",
       "      <th>...</th>\n",
       "      <th>marq_Ssangyong</th>\n",
       "      <th>marq_Subaru</th>\n",
       "      <th>marq_Suzuki</th>\n",
       "      <th>marq_Toyota</th>\n",
       "      <th>marq_UFO</th>\n",
       "      <th>marq_Volkswagen</th>\n",
       "      <th>marq_Volvo</th>\n",
       "      <th>marq_Zotye</th>\n",
       "      <th>marq_lancia</th>\n",
       "      <th>marq_mini</th>\n",
       "    </tr>\n",
       "  </thead>\n",
       "  <tbody>\n",
       "    <tr>\n",
       "      <th>0</th>\n",
       "      <td>0.120603</td>\n",
       "      <td>0.900</td>\n",
       "      <td>1.0</td>\n",
       "      <td>0.0</td>\n",
       "      <td>0.237111</td>\n",
       "      <td>0.054054</td>\n",
       "      <td>0.0</td>\n",
       "      <td>0.583333</td>\n",
       "      <td>1.0</td>\n",
       "      <td>0.0</td>\n",
       "      <td>...</td>\n",
       "      <td>0.0</td>\n",
       "      <td>0.0</td>\n",
       "      <td>0.0</td>\n",
       "      <td>0.0</td>\n",
       "      <td>0.0</td>\n",
       "      <td>0.0</td>\n",
       "      <td>0.0</td>\n",
       "      <td>0.0</td>\n",
       "      <td>0.0</td>\n",
       "      <td>0.0</td>\n",
       "    </tr>\n",
       "    <tr>\n",
       "      <th>1</th>\n",
       "      <td>0.000000</td>\n",
       "      <td>0.600</td>\n",
       "      <td>1.0</td>\n",
       "      <td>0.0</td>\n",
       "      <td>0.098604</td>\n",
       "      <td>0.081081</td>\n",
       "      <td>0.0</td>\n",
       "      <td>0.166667</td>\n",
       "      <td>1.0</td>\n",
       "      <td>0.0</td>\n",
       "      <td>...</td>\n",
       "      <td>0.0</td>\n",
       "      <td>0.0</td>\n",
       "      <td>0.0</td>\n",
       "      <td>0.0</td>\n",
       "      <td>0.0</td>\n",
       "      <td>0.0</td>\n",
       "      <td>0.0</td>\n",
       "      <td>0.0</td>\n",
       "      <td>0.0</td>\n",
       "      <td>0.0</td>\n",
       "    </tr>\n",
       "    <tr>\n",
       "      <th>2</th>\n",
       "      <td>0.547738</td>\n",
       "      <td>0.725</td>\n",
       "      <td>1.0</td>\n",
       "      <td>1.0</td>\n",
       "      <td>0.219523</td>\n",
       "      <td>0.162162</td>\n",
       "      <td>0.0</td>\n",
       "      <td>0.472956</td>\n",
       "      <td>1.0</td>\n",
       "      <td>0.0</td>\n",
       "      <td>...</td>\n",
       "      <td>0.0</td>\n",
       "      <td>0.0</td>\n",
       "      <td>0.0</td>\n",
       "      <td>0.0</td>\n",
       "      <td>0.0</td>\n",
       "      <td>0.0</td>\n",
       "      <td>0.0</td>\n",
       "      <td>0.0</td>\n",
       "      <td>0.0</td>\n",
       "      <td>0.0</td>\n",
       "    </tr>\n",
       "  </tbody>\n",
       "</table>\n",
       "<p>3 rows × 663 columns</p>\n",
       "</div>"
      ],
      "text/plain": [
       "   Kilométrage  Année-Modèle  Nombre de portes  Première main     price  \\\n",
       "0     0.120603         0.900               1.0            0.0  0.237111   \n",
       "1     0.000000         0.600               1.0            0.0  0.098604   \n",
       "2     0.547738         0.725               1.0            1.0  0.219523   \n",
       "\n",
       "   Puissance fiscale  Boite à vitesse     score  carburant_Diesel  \\\n",
       "0           0.054054              0.0  0.583333               1.0   \n",
       "1           0.081081              0.0  0.166667               1.0   \n",
       "2           0.162162              0.0  0.472956               1.0   \n",
       "\n",
       "   carburant_Electrique  ...  marq_Ssangyong  marq_Subaru  marq_Suzuki  \\\n",
       "0                   0.0  ...             0.0          0.0          0.0   \n",
       "1                   0.0  ...             0.0          0.0          0.0   \n",
       "2                   0.0  ...             0.0          0.0          0.0   \n",
       "\n",
       "   marq_Toyota  marq_UFO  marq_Volkswagen  marq_Volvo  marq_Zotye  \\\n",
       "0          0.0       0.0              0.0         0.0         0.0   \n",
       "1          0.0       0.0              0.0         0.0         0.0   \n",
       "2          0.0       0.0              0.0         0.0         0.0   \n",
       "\n",
       "   marq_lancia  marq_mini  \n",
       "0          0.0        0.0  \n",
       "1          0.0        0.0  \n",
       "2          0.0        0.0  \n",
       "\n",
       "[3 rows x 663 columns]"
      ]
     },
     "execution_count": 98,
     "metadata": {},
     "output_type": "execute_result"
    }
   ],
   "source": [
    "for i in dfr.columns[:]:\n",
    "    data = dfr[i].values.reshape(-1,1)\n",
    "    dfr[i]=(dfr[i]-dfr[i].min())/(dfr[i].max()-dfr[i].min())\n",
    "dfr.head(3)"
   ]
  },
  {
   "cell_type": "markdown",
   "metadata": {},
   "source": [
    "# ----------------------------------------"
   ]
  },
  {
   "cell_type": "code",
   "execution_count": null,
   "metadata": {},
   "outputs": [],
   "source": [
    "maxscore=dfr['score'].max()\n",
    "minscore=dfr['score'].min()\n",
    "\n",
    "save_list = open(\"voiture_models/maxscore.pickle\",\"wb\")\n",
    "pickle.dump(maxscore, save_list)\n",
    "save_list.close()\n",
    "\n",
    "save_list = open(\"voiture_models/minscore.pickle\",\"wb\")\n",
    "pickle.dump(minscore, save_list)\n",
    "save_list.close()\n",
    "\n",
    "maxkilometrage=dfr['Kilométrage'].max()\n",
    "minkilometrage=dfr['Kilométrage'].min()\n",
    "\n",
    "save_list = open(\"voiture_models/maxkilometrage.pickle\",\"wb\")\n",
    "pickle.dump(maxkilometrage, save_list)\n",
    "save_list.close()\n",
    "\n",
    "save_list = open(\"voiture_models/minkilometrage.pickle\",\"wb\")\n",
    "pickle.dump(minkilometrage, save_list)\n",
    "save_list.close()\n",
    "\n",
    "maxpuissance=dfr['Puissance fiscale'].max()\n",
    "minpuissance=dfr['Puissance fiscale'].min()\n",
    "\n",
    "save_list = open(\"voiture_models/maxpuissance.pickle\",\"wb\")\n",
    "pickle.dump(maxpuissance, save_list)\n",
    "save_list.close()\n",
    "\n",
    "save_list = open(\"voiture_models/minpuissance.pickle\",\"wb\")\n",
    "pickle.dump(minpuissance, save_list)\n",
    "save_list.close()\n",
    "\n",
    "maxannee=dfr['Année-Modèle'].max()\n",
    "minannee=dfr['Année-Modèle'].min()\n",
    "\n",
    "save_list = open(\"voiture_models/maxannee.pickle\",\"wb\")\n",
    "pickle.dump(maxannee, save_list)\n",
    "save_list.close()\n",
    "\n",
    "save_list = open(\"voiture_models/minannee.pickle\",\"wb\")\n",
    "pickle.dump(minannee, save_list)\n",
    "save_list.close()"
   ]
  },
  {
   "cell_type": "markdown",
   "metadata": {},
   "source": [
    "# ----------------------------------------"
   ]
  },
  {
   "cell_type": "code",
   "execution_count": null,
   "metadata": {},
   "outputs": [],
   "source": [
    "maxnbr=dfr['Nombre de portes'].max()\n",
    "minnbr=dfr['Nombre de portes'].min()\n",
    "\n",
    "save_list = open(\"voiture_models/maxnbr.pickle\",\"wb\")\n",
    "pickle.dump(maxnbr, save_list)\n",
    "save_list.close()\n",
    "\n",
    "save_list = open(\"voiture_models/minnbr.pickle\",\"wb\")\n",
    "pickle.dump(minnbr, save_list)\n",
    "save_list.close()"
   ]
  },
  {
   "cell_type": "code",
   "execution_count": null,
   "metadata": {},
   "outputs": [],
   "source": [
    "dfr['Nombre de portes'].max()"
   ]
  },
  {
   "cell_type": "markdown",
   "metadata": {},
   "source": [
    "# --------------------------------------------"
   ]
  },
  {
   "cell_type": "code",
   "execution_count": 128,
   "metadata": {},
   "outputs": [],
   "source": [
    "pd.set_option('display.max_columns', None)"
   ]
  },
  {
   "cell_type": "code",
   "execution_count": 130,
   "metadata": {},
   "outputs": [],
   "source": [
    "thelist=dfr.keys()"
   ]
  },
  {
   "cell_type": "code",
   "execution_count": 131,
   "metadata": {},
   "outputs": [],
   "source": [
    "marquelist = [x for x in thelist if 'marq_' in x]"
   ]
  },
  {
   "cell_type": "code",
   "execution_count": 133,
   "metadata": {},
   "outputs": [],
   "source": [
    "import pickle\n",
    "save_list = open(\"voiture_models/marquelist.pickle\",\"wb\")\n",
    "pickle.dump(marquelist, save_list)\n",
    "save_list.close()"
   ]
  },
  {
   "cell_type": "code",
   "execution_count": null,
   "metadata": {},
   "outputs": [],
   "source": [
    "modellist = [x for x in thelist if 'mod_' in x]\n"
   ]
  },
  {
   "cell_type": "code",
   "execution_count": 136,
   "metadata": {},
   "outputs": [
    {
     "data": {
      "text/plain": [
       "['carburant_Diesel',\n",
       " 'carburant_Electrique',\n",
       " 'carburant_Essence',\n",
       " 'carburant_Hybride']"
      ]
     },
     "execution_count": 136,
     "metadata": {},
     "output_type": "execute_result"
    }
   ],
   "source": [
    "carburant = [x for x in thelist if 'carburant_' in x]\n",
    "carburant"
   ]
  },
  {
   "cell_type": "code",
   "execution_count": 137,
   "metadata": {},
   "outputs": [],
   "source": [
    "save_list = open(\"voiture_models/carburant.pickle\",\"wb\")\n",
    "pickle.dump(carburant, save_list)\n",
    "save_list.close()"
   ]
  },
  {
   "cell_type": "code",
   "execution_count": 138,
   "metadata": {},
   "outputs": [
    {
     "data": {
      "text/plain": [
       "['Orig_Dédouanée', 'Orig_Importée neuve', 'Orig_WW au Maroc']"
      ]
     },
     "execution_count": 138,
     "metadata": {},
     "output_type": "execute_result"
    }
   ],
   "source": [
    "origine = [x for x in thelist if 'Orig_' in x]\n",
    "origine"
   ]
  },
  {
   "cell_type": "code",
   "execution_count": 139,
   "metadata": {},
   "outputs": [],
   "source": [
    "save_list = open(\"voiture_models/origine.pickle\",\"wb\")\n",
    "pickle.dump(origine, save_list)\n",
    "save_list.close()"
   ]
  },
  {
   "cell_type": "code",
   "execution_count": 140,
   "metadata": {},
   "outputs": [],
   "source": [
    "save_list = open(\"voiture_models/modellist.pickle\",\"wb\")\n",
    "pickle.dump(modellist, save_list)\n",
    "save_list.close()"
   ]
  },
  {
   "cell_type": "markdown",
   "metadata": {},
   "source": [
    "# ---------------------------------"
   ]
  },
  {
   "cell_type": "code",
   "execution_count": 89,
   "metadata": {},
   "outputs": [
    {
     "data": {
      "text/html": [
       "<div>\n",
       "<style scoped>\n",
       "    .dataframe tbody tr th:only-of-type {\n",
       "        vertical-align: middle;\n",
       "    }\n",
       "\n",
       "    .dataframe tbody tr th {\n",
       "        vertical-align: top;\n",
       "    }\n",
       "\n",
       "    .dataframe thead th {\n",
       "        text-align: right;\n",
       "    }\n",
       "</style>\n",
       "<table border=\"1\" class=\"dataframe\">\n",
       "  <thead>\n",
       "    <tr style=\"text-align: right;\">\n",
       "      <th></th>\n",
       "      <th>Kilométrage</th>\n",
       "      <th>Année-Modèle</th>\n",
       "      <th>Nombre de portes</th>\n",
       "      <th>Première main</th>\n",
       "      <th>price</th>\n",
       "      <th>Puissance fiscale</th>\n",
       "      <th>Boite à vitesse</th>\n",
       "      <th>score</th>\n",
       "      <th>carburant_Diesel</th>\n",
       "      <th>carburant_Electrique</th>\n",
       "      <th>...</th>\n",
       "      <th>marq_Ssangyong</th>\n",
       "      <th>marq_Subaru</th>\n",
       "      <th>marq_Suzuki</th>\n",
       "      <th>marq_Toyota</th>\n",
       "      <th>marq_UFO</th>\n",
       "      <th>marq_Volkswagen</th>\n",
       "      <th>marq_Volvo</th>\n",
       "      <th>marq_Zotye</th>\n",
       "      <th>marq_lancia</th>\n",
       "      <th>marq_mini</th>\n",
       "    </tr>\n",
       "  </thead>\n",
       "  <tbody>\n",
       "    <tr>\n",
       "      <th>0</th>\n",
       "      <td>0.120603</td>\n",
       "      <td>0.900</td>\n",
       "      <td>1.0</td>\n",
       "      <td>0</td>\n",
       "      <td>0.237111</td>\n",
       "      <td>0.054054</td>\n",
       "      <td>0.0</td>\n",
       "      <td>0.583333</td>\n",
       "      <td>1</td>\n",
       "      <td>0</td>\n",
       "      <td>...</td>\n",
       "      <td>0</td>\n",
       "      <td>0</td>\n",
       "      <td>0</td>\n",
       "      <td>0</td>\n",
       "      <td>0</td>\n",
       "      <td>0</td>\n",
       "      <td>0</td>\n",
       "      <td>0</td>\n",
       "      <td>0</td>\n",
       "      <td>0</td>\n",
       "    </tr>\n",
       "    <tr>\n",
       "      <th>1</th>\n",
       "      <td>0.000000</td>\n",
       "      <td>0.600</td>\n",
       "      <td>1.0</td>\n",
       "      <td>0</td>\n",
       "      <td>0.098604</td>\n",
       "      <td>0.081081</td>\n",
       "      <td>0.0</td>\n",
       "      <td>0.166667</td>\n",
       "      <td>1</td>\n",
       "      <td>0</td>\n",
       "      <td>...</td>\n",
       "      <td>0</td>\n",
       "      <td>0</td>\n",
       "      <td>0</td>\n",
       "      <td>0</td>\n",
       "      <td>0</td>\n",
       "      <td>0</td>\n",
       "      <td>0</td>\n",
       "      <td>0</td>\n",
       "      <td>0</td>\n",
       "      <td>0</td>\n",
       "    </tr>\n",
       "    <tr>\n",
       "      <th>2</th>\n",
       "      <td>0.547738</td>\n",
       "      <td>0.725</td>\n",
       "      <td>1.0</td>\n",
       "      <td>1</td>\n",
       "      <td>0.219523</td>\n",
       "      <td>0.162162</td>\n",
       "      <td>0.0</td>\n",
       "      <td>0.473006</td>\n",
       "      <td>1</td>\n",
       "      <td>0</td>\n",
       "      <td>...</td>\n",
       "      <td>0</td>\n",
       "      <td>0</td>\n",
       "      <td>0</td>\n",
       "      <td>0</td>\n",
       "      <td>0</td>\n",
       "      <td>0</td>\n",
       "      <td>0</td>\n",
       "      <td>0</td>\n",
       "      <td>0</td>\n",
       "      <td>0</td>\n",
       "    </tr>\n",
       "    <tr>\n",
       "      <th>3</th>\n",
       "      <td>0.226130</td>\n",
       "      <td>0.750</td>\n",
       "      <td>1.0</td>\n",
       "      <td>0</td>\n",
       "      <td>0.186545</td>\n",
       "      <td>0.054054</td>\n",
       "      <td>0.0</td>\n",
       "      <td>0.473006</td>\n",
       "      <td>1</td>\n",
       "      <td>0</td>\n",
       "      <td>...</td>\n",
       "      <td>0</td>\n",
       "      <td>0</td>\n",
       "      <td>0</td>\n",
       "      <td>0</td>\n",
       "      <td>0</td>\n",
       "      <td>0</td>\n",
       "      <td>0</td>\n",
       "      <td>0</td>\n",
       "      <td>0</td>\n",
       "      <td>0</td>\n",
       "    </tr>\n",
       "    <tr>\n",
       "      <th>4</th>\n",
       "      <td>0.170854</td>\n",
       "      <td>0.775</td>\n",
       "      <td>1.0</td>\n",
       "      <td>0</td>\n",
       "      <td>0.314060</td>\n",
       "      <td>0.108108</td>\n",
       "      <td>0.0</td>\n",
       "      <td>0.875000</td>\n",
       "      <td>1</td>\n",
       "      <td>0</td>\n",
       "      <td>...</td>\n",
       "      <td>0</td>\n",
       "      <td>0</td>\n",
       "      <td>0</td>\n",
       "      <td>0</td>\n",
       "      <td>0</td>\n",
       "      <td>1</td>\n",
       "      <td>0</td>\n",
       "      <td>0</td>\n",
       "      <td>0</td>\n",
       "      <td>0</td>\n",
       "    </tr>\n",
       "    <tr>\n",
       "      <th>...</th>\n",
       "      <td>...</td>\n",
       "      <td>...</td>\n",
       "      <td>...</td>\n",
       "      <td>...</td>\n",
       "      <td>...</td>\n",
       "      <td>...</td>\n",
       "      <td>...</td>\n",
       "      <td>...</td>\n",
       "      <td>...</td>\n",
       "      <td>...</td>\n",
       "      <td>...</td>\n",
       "      <td>...</td>\n",
       "      <td>...</td>\n",
       "      <td>...</td>\n",
       "      <td>...</td>\n",
       "      <td>...</td>\n",
       "      <td>...</td>\n",
       "      <td>...</td>\n",
       "      <td>...</td>\n",
       "      <td>...</td>\n",
       "      <td>...</td>\n",
       "    </tr>\n",
       "    <tr>\n",
       "      <th>17378</th>\n",
       "      <td>0.386934</td>\n",
       "      <td>0.500</td>\n",
       "      <td>1.0</td>\n",
       "      <td>0</td>\n",
       "      <td>0.157964</td>\n",
       "      <td>0.054054</td>\n",
       "      <td>0.0</td>\n",
       "      <td>0.473006</td>\n",
       "      <td>1</td>\n",
       "      <td>0</td>\n",
       "      <td>...</td>\n",
       "      <td>0</td>\n",
       "      <td>0</td>\n",
       "      <td>0</td>\n",
       "      <td>0</td>\n",
       "      <td>0</td>\n",
       "      <td>1</td>\n",
       "      <td>0</td>\n",
       "      <td>0</td>\n",
       "      <td>0</td>\n",
       "      <td>0</td>\n",
       "    </tr>\n",
       "    <tr>\n",
       "      <th>17379</th>\n",
       "      <td>0.246231</td>\n",
       "      <td>0.775</td>\n",
       "      <td>1.0</td>\n",
       "      <td>0</td>\n",
       "      <td>0.135979</td>\n",
       "      <td>0.081081</td>\n",
       "      <td>0.0</td>\n",
       "      <td>0.473006</td>\n",
       "      <td>0</td>\n",
       "      <td>0</td>\n",
       "      <td>...</td>\n",
       "      <td>0</td>\n",
       "      <td>0</td>\n",
       "      <td>0</td>\n",
       "      <td>0</td>\n",
       "      <td>0</td>\n",
       "      <td>0</td>\n",
       "      <td>0</td>\n",
       "      <td>0</td>\n",
       "      <td>0</td>\n",
       "      <td>0</td>\n",
       "    </tr>\n",
       "    <tr>\n",
       "      <th>17380</th>\n",
       "      <td>0.206030</td>\n",
       "      <td>0.250</td>\n",
       "      <td>1.0</td>\n",
       "      <td>0</td>\n",
       "      <td>0.061229</td>\n",
       "      <td>0.108108</td>\n",
       "      <td>0.0</td>\n",
       "      <td>0.473006</td>\n",
       "      <td>1</td>\n",
       "      <td>0</td>\n",
       "      <td>...</td>\n",
       "      <td>0</td>\n",
       "      <td>0</td>\n",
       "      <td>0</td>\n",
       "      <td>0</td>\n",
       "      <td>0</td>\n",
       "      <td>0</td>\n",
       "      <td>0</td>\n",
       "      <td>0</td>\n",
       "      <td>0</td>\n",
       "      <td>0</td>\n",
       "    </tr>\n",
       "    <tr>\n",
       "      <th>17382</th>\n",
       "      <td>0.547738</td>\n",
       "      <td>0.525</td>\n",
       "      <td>1.0</td>\n",
       "      <td>0</td>\n",
       "      <td>0.105200</td>\n",
       "      <td>0.081081</td>\n",
       "      <td>0.0</td>\n",
       "      <td>0.375000</td>\n",
       "      <td>1</td>\n",
       "      <td>0</td>\n",
       "      <td>...</td>\n",
       "      <td>0</td>\n",
       "      <td>0</td>\n",
       "      <td>0</td>\n",
       "      <td>0</td>\n",
       "      <td>0</td>\n",
       "      <td>0</td>\n",
       "      <td>0</td>\n",
       "      <td>0</td>\n",
       "      <td>0</td>\n",
       "      <td>0</td>\n",
       "    </tr>\n",
       "    <tr>\n",
       "      <th>17383</th>\n",
       "      <td>0.286432</td>\n",
       "      <td>0.925</td>\n",
       "      <td>1.0</td>\n",
       "      <td>0</td>\n",
       "      <td>0.263493</td>\n",
       "      <td>0.054054</td>\n",
       "      <td>0.0</td>\n",
       "      <td>0.708333</td>\n",
       "      <td>1</td>\n",
       "      <td>0</td>\n",
       "      <td>...</td>\n",
       "      <td>0</td>\n",
       "      <td>0</td>\n",
       "      <td>0</td>\n",
       "      <td>0</td>\n",
       "      <td>0</td>\n",
       "      <td>0</td>\n",
       "      <td>0</td>\n",
       "      <td>0</td>\n",
       "      <td>0</td>\n",
       "      <td>0</td>\n",
       "    </tr>\n",
       "  </tbody>\n",
       "</table>\n",
       "<p>14188 rows × 663 columns</p>\n",
       "</div>"
      ],
      "text/plain": [
       "       Kilométrage  Année-Modèle  Nombre de portes  Première main     price  \\\n",
       "0         0.120603         0.900               1.0              0  0.237111   \n",
       "1         0.000000         0.600               1.0              0  0.098604   \n",
       "2         0.547738         0.725               1.0              1  0.219523   \n",
       "3         0.226130         0.750               1.0              0  0.186545   \n",
       "4         0.170854         0.775               1.0              0  0.314060   \n",
       "...            ...           ...               ...            ...       ...   \n",
       "17378     0.386934         0.500               1.0              0  0.157964   \n",
       "17379     0.246231         0.775               1.0              0  0.135979   \n",
       "17380     0.206030         0.250               1.0              0  0.061229   \n",
       "17382     0.547738         0.525               1.0              0  0.105200   \n",
       "17383     0.286432         0.925               1.0              0  0.263493   \n",
       "\n",
       "       Puissance fiscale  Boite à vitesse     score  carburant_Diesel  \\\n",
       "0               0.054054              0.0  0.583333                 1   \n",
       "1               0.081081              0.0  0.166667                 1   \n",
       "2               0.162162              0.0  0.473006                 1   \n",
       "3               0.054054              0.0  0.473006                 1   \n",
       "4               0.108108              0.0  0.875000                 1   \n",
       "...                  ...              ...       ...               ...   \n",
       "17378           0.054054              0.0  0.473006                 1   \n",
       "17379           0.081081              0.0  0.473006                 0   \n",
       "17380           0.108108              0.0  0.473006                 1   \n",
       "17382           0.081081              0.0  0.375000                 1   \n",
       "17383           0.054054              0.0  0.708333                 1   \n",
       "\n",
       "       carburant_Electrique  ...  marq_Ssangyong  marq_Subaru  marq_Suzuki  \\\n",
       "0                         0  ...               0            0            0   \n",
       "1                         0  ...               0            0            0   \n",
       "2                         0  ...               0            0            0   \n",
       "3                         0  ...               0            0            0   \n",
       "4                         0  ...               0            0            0   \n",
       "...                     ...  ...             ...          ...          ...   \n",
       "17378                     0  ...               0            0            0   \n",
       "17379                     0  ...               0            0            0   \n",
       "17380                     0  ...               0            0            0   \n",
       "17382                     0  ...               0            0            0   \n",
       "17383                     0  ...               0            0            0   \n",
       "\n",
       "       marq_Toyota  marq_UFO  marq_Volkswagen  marq_Volvo  marq_Zotye  \\\n",
       "0                0         0                0           0           0   \n",
       "1                0         0                0           0           0   \n",
       "2                0         0                0           0           0   \n",
       "3                0         0                0           0           0   \n",
       "4                0         0                1           0           0   \n",
       "...            ...       ...              ...         ...         ...   \n",
       "17378            0         0                1           0           0   \n",
       "17379            0         0                0           0           0   \n",
       "17380            0         0                0           0           0   \n",
       "17382            0         0                0           0           0   \n",
       "17383            0         0                0           0           0   \n",
       "\n",
       "       marq_lancia  marq_mini  \n",
       "0                0          0  \n",
       "1                0          0  \n",
       "2                0          0  \n",
       "3                0          0  \n",
       "4                0          0  \n",
       "...            ...        ...  \n",
       "17378            0          0  \n",
       "17379            0          0  \n",
       "17380            0          0  \n",
       "17382            0          0  \n",
       "17383            0          0  \n",
       "\n",
       "[14188 rows x 663 columns]"
      ]
     },
     "execution_count": 89,
     "metadata": {},
     "output_type": "execute_result"
    }
   ],
   "source": [
    "dfr"
   ]
  },
  {
   "cell_type": "code",
   "execution_count": 90,
   "metadata": {},
   "outputs": [
    {
     "name": "stdout",
     "output_type": "stream",
     "text": [
      "<class 'pandas.core.frame.DataFrame'>\n",
      "Int64Index: 14188 entries, 0 to 17383\n",
      "Columns: 663 entries, Kilométrage to marq_mini\n",
      "dtypes: float64(7), int64(1), uint8(655)\n",
      "memory usage: 9.8 MB\n"
     ]
    }
   ],
   "source": [
    "dfr.info()"
   ]
  },
  {
   "cell_type": "markdown",
   "metadata": {},
   "source": [
    "# Linear Regression"
   ]
  },
  {
   "cell_type": "code",
   "execution_count": 91,
   "metadata": {},
   "outputs": [],
   "source": [
    "from sklearn.model_selection import train_test_split\n",
    "from sklearn.model_selection import GridSearchCV\n",
    "from sklearn.decomposition import PCA\n",
    "from sklearn.linear_model import LinearRegression\n",
    "from sklearn.metrics import mean_absolute_error\n",
    "from sklearn.metrics import mean_squared_error\n"
   ]
  },
  {
   "cell_type": "code",
   "execution_count": 92,
   "metadata": {},
   "outputs": [],
   "source": [
    "X=dfr.drop(columns=['price'])\n",
    "y=dfr['price']"
   ]
  },
  {
   "cell_type": "code",
   "execution_count": 93,
   "metadata": {},
   "outputs": [],
   "source": [
    "X_train, X_test, y_train, y_test = train_test_split(X,y, test_size=0.3, random_state=1)"
   ]
  },
  {
   "cell_type": "code",
   "execution_count": 93,
   "metadata": {},
   "outputs": [],
   "source": [
    "from sklearn.pipeline import Pipeline\n",
    "from sklearn.feature_selection import SelectKBest, chi2 ,f_regression\n",
    "from sklearn.metrics import fbeta_score, make_scorer\n",
    "from sklearn.metrics import r2_score\n",
    "pca = PCA()\n",
    "r=make_scorer(r2_score)\n",
    "\n",
    "fs = SelectKBest(score_func=f_regression)\n",
    "# set the tolerance to a large value to make the example faster\n",
    "logistic = LinearRegression()\n",
    "\n",
    "pipe = Pipeline(steps=[('fs',fs),('pca', pca), ('logistic', logistic)])\n",
    "k_range = list(range(149, 161))\n",
    "param_grid = {\n",
    "    'fs__k':k_range,\n",
    "    'pca__n_components': k_range\n",
    "    \n",
    "}\n",
    "search = GridSearchCV(pipe, param_grid,n_jobs=-1,scoring=r)"
   ]
  },
  {
   "cell_type": "code",
   "execution_count": 94,
   "metadata": {},
   "outputs": [
    {
     "name": "stderr",
     "output_type": "stream",
     "text": [
      "C:\\anaconda\\anaconda3\\lib\\site-packages\\sklearn\\feature_selection\\_univariate_selection.py:302: RuntimeWarning: invalid value encountered in true_divide\n",
      "  corr /= X_norms\n"
     ]
    },
    {
     "data": {
      "text/plain": [
       "GridSearchCV(estimator=Pipeline(steps=[('fs',\n",
       "                                        SelectKBest(score_func=<function f_regression at 0x000001996D485CA0>)),\n",
       "                                       ('pca', PCA()),\n",
       "                                       ('logistic', LinearRegression())]),\n",
       "             n_jobs=-1,\n",
       "             param_grid={'fs__k': [149, 150, 151, 152, 153, 154, 155, 156, 157,\n",
       "                                   158, 159, 160],\n",
       "                         'pca__n_components': [149, 150, 151, 152, 153, 154,\n",
       "                                               155, 156, 157, 158, 159, 160]},\n",
       "             scoring=make_scorer(r2_score))"
      ]
     },
     "execution_count": 94,
     "metadata": {},
     "output_type": "execute_result"
    }
   ],
   "source": [
    "search.fit(X_train,y_train)"
   ]
  },
  {
   "cell_type": "code",
   "execution_count": 95,
   "metadata": {},
   "outputs": [
    {
     "data": {
      "text/plain": [
       "{'fs__k': 159, 'pca__n_components': 155}"
      ]
     },
     "execution_count": 95,
     "metadata": {},
     "output_type": "execute_result"
    }
   ],
   "source": [
    "search.best_params_"
   ]
  },
  {
   "cell_type": "code",
   "execution_count": 96,
   "metadata": {},
   "outputs": [
    {
     "data": {
      "text/plain": [
       "0.7413772912400494"
      ]
     },
     "execution_count": 96,
     "metadata": {},
     "output_type": "execute_result"
    }
   ],
   "source": [
    "search.score(X_train,y_train)"
   ]
  },
  {
   "cell_type": "code",
   "execution_count": 97,
   "metadata": {},
   "outputs": [
    {
     "data": {
      "text/plain": [
       "0.7293975417194543"
      ]
     },
     "execution_count": 97,
     "metadata": {},
     "output_type": "execute_result"
    }
   ],
   "source": [
    "search.score(X_test,y_test)"
   ]
  },
  {
   "cell_type": "code",
   "execution_count": 98,
   "metadata": {},
   "outputs": [],
   "source": [
    "yhat = search.predict(X_test)"
   ]
  },
  {
   "cell_type": "code",
   "execution_count": 99,
   "metadata": {},
   "outputs": [
    {
     "name": "stdout",
     "output_type": "stream",
     "text": [
      "MAE: 0.044\n"
     ]
    }
   ],
   "source": [
    "mae = mean_absolute_error(y_test, yhat)\n",
    "print('MAE: %.3f' % mae)"
   ]
  },
  {
   "cell_type": "code",
   "execution_count": 100,
   "metadata": {},
   "outputs": [
    {
     "name": "stdout",
     "output_type": "stream",
     "text": [
      "0.7293975417194543\n"
     ]
    }
   ],
   "source": [
    "print(r2_score(y_test, yhat))"
   ]
  },
  {
   "cell_type": "markdown",
   "metadata": {},
   "source": [
    "# -----------------------------"
   ]
  },
  {
   "cell_type": "code",
   "execution_count": 102,
   "metadata": {},
   "outputs": [],
   "source": [
    "import pickle\n",
    "save_predicter = open(\"voiture_models/logistic.pickle\",\"wb\")\n",
    "pickle.dump(search, save_predicter)\n",
    "save_predicter.close()"
   ]
  },
  {
   "cell_type": "markdown",
   "metadata": {},
   "source": [
    "# -----------------------------"
   ]
  },
  {
   "cell_type": "code",
   "execution_count": null,
   "metadata": {},
   "outputs": [],
   "source": [
    "import pickle\n",
    "open_file = open(\"voiture_models/logistic.pickle\", \"rb\")\n",
    "linear = pickle.load(open_file)\n",
    "open_file.close()"
   ]
  },
  {
   "cell_type": "markdown",
   "metadata": {},
   "source": [
    "# definition of a function that can preprocess the instances to be predicted"
   ]
  },
  {
   "cell_type": "code",
   "execution_count": 99,
   "metadata": {},
   "outputs": [],
   "source": [
    "def preprocess(lst):\n",
    "    del lst[0]\n",
    "    lst[0]=lst[0].replace(' ','').split('-')\n",
    "    lst[0]=(float(lst[0][0])+float(lst[0][1]))/2\n",
    "    lst[1]=float(lst[1])\n",
    "    del lst[6]\n",
    "    \n",
    "    if lst[6]=='Non':\n",
    "        lst[6]=0\n",
    "    else:\n",
    "        lst[6]=1\n",
    "    lst[8]=float(lst[8].replace(' CV',''))\n",
    "    \n",
    "    if lst[9]=='Manuelle':\n",
    "        lst[9]=0\n",
    "    else:\n",
    "        lst[9]=1\n",
    "        \n",
    "    open_file = open(\"voiture_models/marquelist.pickle\", \"rb\")\n",
    "    marquelist = pickle.load(open_file)\n",
    "    open_file.close()\n",
    "    \n",
    "    open_file = open(\"voiture_models/modellist.pickle\", \"rb\")\n",
    "    modellist = pickle.load(open_file)\n",
    "    open_file.close()\n",
    "    \n",
    "    open_file = open(\"voiture_models/origine.pickle\", \"rb\")\n",
    "    origine = pickle.load(open_file)\n",
    "    open_file.close()\n",
    "    \n",
    "    open_file = open(\"voiture_models/carburant.pickle\", \"rb\")\n",
    "    carburant = pickle.load(open_file)\n",
    "    open_file.close()\n",
    "    \n",
    "    for e in carburant:\n",
    "        if lst[7]==e.replace('carburant_',''):\n",
    "            lst.append(1)\n",
    "        else:\n",
    "            lst.append(0)\n",
    "            \n",
    "    del lst[7]\n",
    "    \n",
    "    for e in origine:\n",
    "        if lst[5]==e.replace('Orig_',''):\n",
    "            lst.append(1)\n",
    "        else:\n",
    "            lst.append(0)\n",
    "    del lst[5]\n",
    "    \n",
    "    for e in modellist:\n",
    "        if lst[3]==e.replace('mod_',''):\n",
    "            lst.append(1)\n",
    "        else:\n",
    "            lst.append(0)\n",
    "            \n",
    "    for e in marquelist:\n",
    "        if lst[2]==e.replace('marq_',''):\n",
    "            lst.append(1)\n",
    "        else:\n",
    "            lst.append(0)\n",
    "    del lst[2]\n",
    "    \n",
    "    del lst[2]\n",
    "    \n",
    "    open_file = open(\"voiture_models/maxscore.pickle\", \"rb\")\n",
    "    maxscore = pickle.load(open_file)\n",
    "    open_file.close()\n",
    "    \n",
    "    open_file = open(\"voiture_models/minscore.pickle\", \"rb\")\n",
    "    minscore = pickle.load(open_file)\n",
    "    open_file.close()\n",
    "    \n",
    "    open_file = open(\"voiture_models/maxkilometrage.pickle\", \"rb\")\n",
    "    maxkilometrage = pickle.load(open_file)\n",
    "    open_file.close()\n",
    "    \n",
    "    open_file = open(\"voiture_models/minkilometrage.pickle\", \"rb\")\n",
    "    minkilometrage = pickle.load(open_file)\n",
    "    open_file.close()\n",
    "    \n",
    "    open_file = open(\"voiture_models/maxpuissance.pickle\", \"rb\")\n",
    "    maxpuissance = pickle.load(open_file)\n",
    "    open_file.close()\n",
    "    \n",
    "    open_file = open(\"voiture_models/minpuissance.pickle\", \"rb\")\n",
    "    minpuissance = pickle.load(open_file)\n",
    "    open_file.close()\n",
    "    \n",
    "    open_file = open(\"voiture_models/maxannee.pickle\", \"rb\")\n",
    "    maxannee = pickle.load(open_file)\n",
    "    open_file.close()\n",
    "    \n",
    "    open_file = open(\"voiture_models/minannee.pickle\", \"rb\")\n",
    "    minannee = pickle.load(open_file)\n",
    "    open_file.close()\n",
    "    \n",
    "    open_file = open(\"voiture_models/maxnbr.pickle\", \"rb\")\n",
    "    maxnbr = pickle.load(open_file)\n",
    "    open_file.close()\n",
    "    \n",
    "    open_file = open(\"voiture_models/minnbr.pickle\", \"rb\")\n",
    "    minnbr = pickle.load(open_file)\n",
    "    open_file.close()\n",
    "    \n",
    "    lst[0]=(lst[0]-minkilometrage)/(maxkilometrage-minkilometrage)\n",
    "    lst[1]=(lst[1]-minannee)/(maxannee-minannee)\n",
    "    lst[2]=(lst[2]-minnbr)/(maxnbr-minnbr)\n",
    "    lst[4]=(lst[4]-minpuissance)/(maxpuissance-minpuissance)\n",
    "    lst[6]=(lst[6]-minscore)/(maxscore-minscore)\n",
    "    \n",
    "    return lst"
   ]
  },
  {
   "cell_type": "markdown",
   "metadata": {},
   "source": [
    "# definition of a function able to predict the instances (after preprocessing them with the previous function)"
   ]
  },
  {
   "cell_type": "code",
   "execution_count": 100,
   "metadata": {},
   "outputs": [],
   "source": [
    "def predict(lst):\n",
    "    open_file = open(\"voiture_models/maxprice.pickle\", \"rb\")\n",
    "    maxprice = pickle.load(open_file)\n",
    "    open_file.close()\n",
    "    \n",
    "    open_file = open(\"voiture_models/minprice.pickle\", \"rb\")\n",
    "    minprice = pickle.load(open_file)\n",
    "    open_file.close()\n",
    "    \n",
    "    open_file = open(\"voiture_models/logistic.pickle\", \"rb\")\n",
    "    logistic = pickle.load(open_file)\n",
    "    open_file.close()\n",
    "    \n",
    "    return linear.predict([preprocess(lst)])*(maxprice-minprice)+minprice "
   ]
  },
  {
   "cell_type": "code",
   "execution_count": 103,
   "metadata": {},
   "outputs": [],
   "source": [
    "open_file = open(\"voiture_models/maxprice.pickle\", \"rb\")\n",
    "maxprice = pickle.load(open_file)\n",
    "open_file.close()\n",
    "    \n",
    "open_file = open(\"voiture_models/minprice.pickle\", \"rb\")\n",
    "minprice = pickle.load(open_file)\n",
    "open_file.close()"
   ]
  },
  {
   "cell_type": "code",
   "execution_count": 104,
   "metadata": {},
   "outputs": [
    {
     "data": {
      "text/plain": [
       "array([86882.69490796])"
      ]
     },
     "execution_count": 104,
     "metadata": {},
     "output_type": "execute_result"
    }
   ],
   "source": [
    "linear.predict(X[2:3].values)*(maxprice-minprice)+minprice"
   ]
  },
  {
   "cell_type": "code",
   "execution_count": 105,
   "metadata": {},
   "outputs": [
    {
     "data": {
      "text/plain": [
       "array([53884.58739602])"
      ]
     },
     "execution_count": 105,
     "metadata": {},
     "output_type": "execute_result"
    }
   ],
   "source": [
    "import pickle\n",
    "predict(['Voitures, Vente',\n",
    " '0 - 4 999',\n",
    " '2004',\n",
    " 'Citroen',\n",
    " 'Berlingo',\n",
    " 5.0,\n",
    " 'WW au Maroc',\n",
    " 'Sidi Othmane',\n",
    " 'Non',\n",
    " 'Diesel',\n",
    " '7 CV',\n",
    " 'Manuelle',\n",
    " 5.0])"
   ]
  },
  {
   "cell_type": "markdown",
   "metadata": {},
   "source": [
    "# Random Forest Regressor "
   ]
  },
  {
   "cell_type": "code",
   "execution_count": 96,
   "metadata": {},
   "outputs": [],
   "source": [
    "from sklearn.ensemble import RandomForestRegressor\n",
    "from sklearn.pipeline import Pipeline\n",
    "from sklearn.feature_selection import SelectKBest, chi2 ,f_regression\n",
    "from sklearn.metrics import fbeta_score, make_scorer\n",
    "from sklearn.metrics import r2_score\n",
    "rf=RandomForestRegressor()\n",
    "pca = PCA()\n",
    "r=make_scorer(r2_score)\n",
    "\n",
    "fs = SelectKBest(score_func=f_regression)\n",
    "\n",
    "pipe = Pipeline(steps=[('fs',fs),('pca', pca), ('rf', rf)])\n",
    "k_range = list(range(149, 161))\n",
    "param_grid = {\n",
    "    'fs__k':k_range,\n",
    "    'pca__n_components': k_range\n",
    "    \n",
    "}\n",
    "search2 = GridSearchCV(pipe, param_grid,n_jobs=2,scoring=r)"
   ]
  },
  {
   "cell_type": "code",
   "execution_count": 97,
   "metadata": {},
   "outputs": [
    {
     "name": "stderr",
     "output_type": "stream",
     "text": [
      "C:\\anaconda\\anaconda3\\lib\\site-packages\\sklearn\\feature_selection\\_univariate_selection.py:302: RuntimeWarning: invalid value encountered in true_divide\n",
      "  corr /= X_norms\n"
     ]
    },
    {
     "data": {
      "text/plain": [
       "GridSearchCV(estimator=Pipeline(steps=[('fs',\n",
       "                                        SelectKBest(score_func=<function f_regression at 0x000001DC852D1DC0>)),\n",
       "                                       ('pca', PCA()),\n",
       "                                       ('rf', RandomForestRegressor())]),\n",
       "             n_jobs=2,\n",
       "             param_grid={'fs__k': [149, 150, 151, 152, 153, 154, 155, 156, 157,\n",
       "                                   158, 159, 160],\n",
       "                         'pca__n_components': [149, 150, 151, 152, 153, 154,\n",
       "                                               155, 156, 157, 158, 159, 160]},\n",
       "             scoring=make_scorer(r2_score))"
      ]
     },
     "execution_count": 97,
     "metadata": {},
     "output_type": "execute_result"
    }
   ],
   "source": [
    "search2.fit(X_train,y_train)"
   ]
  },
  {
   "cell_type": "code",
   "execution_count": 98,
   "metadata": {},
   "outputs": [
    {
     "data": {
      "text/plain": [
       "0.8035819551629311"
      ]
     },
     "execution_count": 98,
     "metadata": {},
     "output_type": "execute_result"
    }
   ],
   "source": [
    "search2.score(X_test,y_test)"
   ]
  },
  {
   "cell_type": "code",
   "execution_count": 99,
   "metadata": {},
   "outputs": [],
   "source": [
    "import pickle\n",
    "save_predicter = open(\"voiture_models/regressor.pickle\",\"wb\")\n",
    "pickle.dump(search2, save_predicter)\n",
    "save_predicter.close()"
   ]
  },
  {
   "cell_type": "code",
   "execution_count": 106,
   "metadata": {},
   "outputs": [],
   "source": [
    "open_file = open(\"voiture_models/regressor.pickle\", \"rb\")\n",
    "regressor = pickle.load(open_file)\n",
    "open_file.close()"
   ]
  },
  {
   "cell_type": "code",
   "execution_count": 107,
   "metadata": {},
   "outputs": [
    {
     "data": {
      "text/plain": [
       "0.8035819551629311"
      ]
     },
     "execution_count": 107,
     "metadata": {},
     "output_type": "execute_result"
    }
   ],
   "source": [
    "regressor.score(X_test,y_test)"
   ]
  },
  {
   "cell_type": "markdown",
   "metadata": {},
   "source": [
    "# definition of a set function (mean)"
   ]
  },
  {
   "cell_type": "code",
   "execution_count": 110,
   "metadata": {},
   "outputs": [],
   "source": [
    "def predict_mean(lst):\n",
    "    open_file = open(\"voiture_models/maxprice.pickle\", \"rb\")\n",
    "    maxprice = pickle.load(open_file)\n",
    "    open_file.close()\n",
    "    \n",
    "    open_file = open(\"voiture_models/minprice.pickle\", \"rb\")\n",
    "    minprice = pickle.load(open_file)\n",
    "    open_file.close()\n",
    "    \n",
    "    open_file = open(\"voiture_models/logistic.pickle\", \"rb\")\n",
    "    logistic = pickle.load(open_file)\n",
    "    open_file.close()\n",
    "    lst=preprocess(lst)\n",
    "    return ((linear.predict([lst])*(maxprice-minprice)+minprice)+(regressor.predict([lst])*(maxprice-minprice)+minprice))/2"
   ]
  },
  {
   "cell_type": "code",
   "execution_count": 111,
   "metadata": {},
   "outputs": [
    {
     "data": {
      "text/plain": [
       "array([50077.29369801])"
      ]
     },
     "execution_count": 111,
     "metadata": {},
     "output_type": "execute_result"
    }
   ],
   "source": [
    "predict_mean(['Voitures, Vente',\n",
    " '0 - 4 999',\n",
    " '2004',\n",
    " 'Citroen',\n",
    " 'Berlingo',\n",
    " 5.0,\n",
    " 'WW au Maroc',\n",
    " 'Sidi Othmane',\n",
    " 'Non',\n",
    " 'Diesel',\n",
    " '7 CV',\n",
    " 'Manuelle',\n",
    " 5.0])"
   ]
  },
  {
   "cell_type": "code",
   "execution_count": null,
   "metadata": {},
   "outputs": [],
   "source": []
  }
 ],
 "metadata": {
  "kernelspec": {
   "display_name": "Python 3",
   "language": "python",
   "name": "python3"
  },
  "language_info": {
   "codemirror_mode": {
    "name": "ipython",
    "version": 3
   },
   "file_extension": ".py",
   "mimetype": "text/x-python",
   "name": "python",
   "nbconvert_exporter": "python",
   "pygments_lexer": "ipython3",
   "version": "3.8.5"
  }
 },
 "nbformat": 4,
 "nbformat_minor": 4
}
